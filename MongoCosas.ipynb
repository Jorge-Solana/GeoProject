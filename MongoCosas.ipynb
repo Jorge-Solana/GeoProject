{
 "cells": [
  {
   "cell_type": "markdown",
   "id": "7f740b9c",
   "metadata": {},
   "source": [
    "vamos a morirnos"
   ]
  },
  {
   "cell_type": "code",
   "execution_count": 25,
   "id": "0981a7ee",
   "metadata": {},
   "outputs": [],
   "source": [
    "import requests\n",
    "import json\n",
    "from dotenv import load_dotenv\n",
    "import os\n",
    "import pandas as pd\n",
    "from pymongo import MongoClient\n",
    "from pandas import json_normalize\n",
    "from pymongo import MongoClient,GEOSPHERE\n",
    "import shapely.geometry\n",
    "import geopandas as gdp\n",
    "from bson.json_util import dumps"
   ]
  },
  {
   "cell_type": "code",
   "execution_count": 2,
   "id": "3107b7d9",
   "metadata": {},
   "outputs": [],
   "source": [
    "df = pd.read_csv('newyork_data.csv', index_col = 0)\n",
    "df2 = pd.read_csv('mad_data.csv', index_col = 0)\n",
    "df3 = pd.read_csv('bcn_data.csv', index_col = 0)"
   ]
  },
  {
   "cell_type": "code",
   "execution_count": 3,
   "id": "6c5da8bc",
   "metadata": {},
   "outputs": [],
   "source": [
    "def funcionquefunciona (df,ciudad):\n",
    "    gdf = gdp.GeoDataFrame(df, geometry= gdp.points_from_xy(df.lng, df.lat ))\n",
    "    print(gdf.columns)\n",
    "    gdf.columns=['nombre', 'lat','lng','ciudad','distancia','loc','loc2' ]\n",
    "    \n",
    "    gdf['loc2']= gdf['loc2'].apply(lambda x:shapely.geometry.mapping(x))\n",
    "    \n",
    "    client = MongoClient()\n",
    "    db = client.GeoProject\n",
    "    collection = db.create_collection(name = f'{ciudad}')\n",
    "    collection = db[f'{ciudad}']\n",
    "    collection.create_index([(\"loc2\", \"2dsphere\")])\n",
    "    data = gdf.to_dict(orient='records')\n",
    "    collection.insert_many(data)\n",
    "    \n",
    "    return 'Buenisima'"
   ]
  },
  {
   "cell_type": "code",
   "execution_count": 4,
   "id": "4213b35d",
   "metadata": {},
   "outputs": [
    {
     "data": {
      "text/plain": [
       "'Buenisima'"
      ]
     },
     "execution_count": 4,
     "metadata": {},
     "output_type": "execute_result"
    }
   ],
   "source": [
    "funcionquefunciona(df2,'mad')"
   ]
  },
  {
   "cell_type": "code",
   "execution_count": 5,
   "id": "4065b15a",
   "metadata": {},
   "outputs": [
    {
     "data": {
      "text/plain": [
       "'Buenisima'"
      ]
     },
     "execution_count": 5,
     "metadata": {},
     "output_type": "execute_result"
    }
   ],
   "source": [
    "funcionquefunciona(df3,'bnc')"
   ]
  },
  {
   "cell_type": "code",
   "execution_count": 20,
   "id": "c79cfc41",
   "metadata": {},
   "outputs": [],
   "source": [
    "lista1 = [df,df2,df3]\n",
    "lista2 = ['ny', 'mad','bcn']"
   ]
  },
  {
   "cell_type": "code",
   "execution_count": 21,
   "id": "328c9d54",
   "metadata": {},
   "outputs": [
    {
     "name": "stdout",
     "output_type": "stream",
     "text": [
      "Index(['nombre', 'lat', 'lng', 'ciudad', 'distancia', 'loc', 'geometry'], dtype='object')\n",
      "Index(['nombre', 'lat', 'lng', 'ciudad', 'distancia', 'loc', 'geometry'], dtype='object')\n",
      "Index(['nombre', 'lat', 'lng', 'ciudad', 'distancia', 'loc', 'geometry'], dtype='object')\n"
     ]
    }
   ],
   "source": [
    "for i,j in zip(lista1,lista2):\n",
    "    funcionquefunciona(i,j)"
   ]
  },
  {
   "cell_type": "markdown",
   "id": "82736cc1",
   "metadata": {},
   "source": [
    "#### Pasamos a hacer las geoqueries"
   ]
  },
  {
   "cell_type": "markdown",
   "id": "c8182f08",
   "metadata": {},
   "source": [
    "Primero nos tenemos que conectar con la base de datos en Mongo"
   ]
  },
  {
   "cell_type": "code",
   "execution_count": 4,
   "id": "35b8cd16",
   "metadata": {},
   "outputs": [],
   "source": [
    "from pymongo import MongoClient\n",
    "client = MongoClient(\"localhost:27017\")\n",
    "db = client.get_database(\"GeoProject\")"
   ]
  },
  {
   "cell_type": "code",
   "execution_count": 5,
   "id": "7991b4b7",
   "metadata": {},
   "outputs": [
    {
     "data": {
      "text/plain": [
       "Database(MongoClient(host=['localhost:27017'], document_class=dict, tz_aware=False, connect=True), 'GeoProject')"
      ]
     },
     "execution_count": 5,
     "metadata": {},
     "output_type": "execute_result"
    }
   ],
   "source": [
    "db"
   ]
  },
  {
   "cell_type": "code",
   "execution_count": 6,
   "id": "d2cc2fc9",
   "metadata": {},
   "outputs": [],
   "source": [
    "m = db.get_collection(\"mad\")\n",
    "b = db.get_collection(\"bcn\")\n",
    "ny = db.get_collection('ny')"
   ]
  },
  {
   "cell_type": "markdown",
   "id": "5c1f5de8",
   "metadata": {},
   "source": [
    "Empezamos con las geoqueries"
   ]
  },
  {
   "cell_type": "code",
   "execution_count": 57,
   "id": "4adb7e76",
   "metadata": {},
   "outputs": [],
   "source": [
    "# estas son las coordenadas que utilizaremos y en el formato que se tienen que usar (long, lat)\n",
    "coord_ny = [-73.98996, 40.75673]\n",
    "coord_mad = [2.19763, 41.40080]\n",
    "coord_bcn = [-3.67097, 40.50222]"
   ]
  },
  {
   "cell_type": "code",
   "execution_count": 63,
   "id": "7396fcce",
   "metadata": {},
   "outputs": [],
   "source": [
    "query = [{'$geoNear': {'near':[-73.98996, 40.75673],\n",
    "                      'distanceField' : 'distance',\n",
    "                       'maxDistance': 6000,\n",
    "                       'distanceMultiplier': 6371,\n",
    "                       'spherical': True}}]"
   ]
  },
  {
   "cell_type": "code",
   "execution_count": 64,
   "id": "5de6af46",
   "metadata": {},
   "outputs": [],
   "source": [
    "geoloc_ny = ny.aggregate(query)\n",
    "ny_response_json = json.loads(dumps(geoloc_ny))"
   ]
  },
  {
   "cell_type": "code",
   "execution_count": 65,
   "id": "dfb27edc",
   "metadata": {},
   "outputs": [
    {
     "data": {
      "text/plain": [
       "{'_id': {'$oid': '613246bda69b02500131d9d4'},\n",
       " 'nombre': 'STORY',\n",
       " 'lat': 40.750865752734846,\n",
       " 'lng': -73.98927211761475,\n",
       " 'ciudad': 'New York',\n",
       " 'distancia': 655,\n",
       " 'loc': 'POINT (-73.98927211761475 40.75086575273485)',\n",
       " 'loc2': {'type': 'Point',\n",
       "  'coordinates': [-73.98927211761475, 40.750865752734846]},\n",
       " 'distance': 0.6546437953152028}"
      ]
     },
     "execution_count": 65,
     "metadata": {},
     "output_type": "execute_result"
    }
   ],
   "source": [
    "ny_response_json[75]"
   ]
  },
  {
   "cell_type": "code",
   "execution_count": 81,
   "id": "0a16c663",
   "metadata": {},
   "outputs": [
    {
     "data": {
      "text/plain": [
       "(0.6546437953152028, ['nombre'], ['ciudad'])"
      ]
     },
     "execution_count": 81,
     "metadata": {},
     "output_type": "execute_result"
    }
   ],
   "source": [
    "ny_response_json[75]['distance'],['nombre'],['ciudad']"
   ]
  },
  {
   "cell_type": "code",
   "execution_count": 43,
   "id": "1ecca4d8",
   "metadata": {},
   "outputs": [],
   "source": [
    "# me genero un dataframe solo con las cosas que me interesan dentro de la respuesta que me ha dado la query\n",
    "# solo quiero el nombre, la ciudad y la distancia"
   ]
  },
  {
   "cell_type": "code",
   "execution_count": 75,
   "id": "fae6ff2a",
   "metadata": {},
   "outputs": [],
   "source": [
    "query2 =[{'$geoNear': {'near':[2.19763, 41.40080],\n",
    "                      'distanceField' : 'distance',\n",
    "                       'maxDistance': 6000,\n",
    "                       'distanceMultiplier': 6371,\n",
    "                       'spherical': True}}]"
   ]
  },
  {
   "cell_type": "code",
   "execution_count": 76,
   "id": "91d902c8",
   "metadata": {},
   "outputs": [],
   "source": [
    "geoloc_mad = m.aggregate(query2)\n",
    "mad_response_json = json.loads(dumps(geoloc_mad))"
   ]
  },
  {
   "cell_type": "code",
   "execution_count": 121,
   "id": "16ace471",
   "metadata": {},
   "outputs": [
    {
     "data": {
      "text/plain": [
       "{'_id': {'$oid': '613246bda69b02500131dae8'},\n",
       " 'nombre': 'Bar Welcome',\n",
       " 'lat': 40.488635,\n",
       " 'lng': -3.669062,\n",
       " 'ciudad': 'Madrid',\n",
       " 'distancia': 1520,\n",
       " 'loc': 'POINT (-3.669062 40.488635)',\n",
       " 'loc2': {'type': 'Point', 'coordinates': [-3.669062, 40.488635]},\n",
       " 'distance': 502.96841703133106}"
      ]
     },
     "execution_count": 121,
     "metadata": {},
     "output_type": "execute_result"
    }
   ],
   "source": [
    "mad_response_json[41]"
   ]
  },
  {
   "cell_type": "code",
   "execution_count": 87,
   "id": "cac73842",
   "metadata": {},
   "outputs": [],
   "source": [
    "coord = [[-73.98996, 40.75673], [2.19763, 41.40080], [-3.67097, 40.50222]]\n",
    "colecciones = [ny, m , b]"
   ]
  },
  {
   "cell_type": "code",
   "execution_count": 162,
   "id": "5d1319ba",
   "metadata": {},
   "outputs": [],
   "source": [
    "# no funciona bien, me dice que en aggregate un string no tiene esa cualidad, pero le estoy pasando una coleccion ... ?\n",
    "def geoquery(coordenadas, coleccion): #las coordenadas en formato lista (long y lat)\n",
    "    query = [{'$geoNear': {'near':f'{coordenadas}',\n",
    "                      'distanceField' : 'distance',\n",
    "                       'maxDistance': 6000,\n",
    "                       'distanceMultiplier': 6371,\n",
    "                       'spherical': True}}]\n",
    "    \n",
    "    col = f'{coleccion}'\n",
    "    geoloc = col.aggregate(query)\n",
    "    response_json = json.loads(dumps(geoloc))\n",
    "    \n",
    "    return response_json"
   ]
  },
  {
   "cell_type": "code",
   "execution_count": 92,
   "id": "d72562b2",
   "metadata": {},
   "outputs": [],
   "source": [
    "query3 =[{'$geoNear': {'near':[-3.67097, 40.50222],\n",
    "                      'distanceField' : 'distance',\n",
    "                       'maxDistance': 6000,\n",
    "                       'distanceMultiplier': 6371,\n",
    "                       'spherical': True}}]"
   ]
  },
  {
   "cell_type": "code",
   "execution_count": 96,
   "id": "6fb82102",
   "metadata": {},
   "outputs": [],
   "source": [
    "geoloc_bcn = b.aggregate(query3)\n",
    "bcn_response_json = json.loads(dumps(geoloc_bcn))"
   ]
  },
  {
   "cell_type": "code",
   "execution_count": 123,
   "id": "2d2e895f",
   "metadata": {},
   "outputs": [
    {
     "data": {
      "text/plain": [
       "{'_id': {'$oid': '613246bda69b02500131dbc6'},\n",
       " 'nombre': 'Starbucks',\n",
       " 'lat': 41.38190998967705,\n",
       " 'lng': 2.172113994974859,\n",
       " 'ciudad': 'Barcelona',\n",
       " 'distancia': 2993,\n",
       " 'loc': 'POINT (2.172113994974859 41.38190998967705)',\n",
       " 'loc2': {'type': 'Point',\n",
       "  'coordinates': [2.172113994974859, 41.38190998967705]},\n",
       " 'distance': 500.3295985340484}"
      ]
     },
     "execution_count": 123,
     "metadata": {},
     "output_type": "execute_result"
    }
   ],
   "source": [
    "bcn_response_json[67]"
   ]
  },
  {
   "cell_type": "markdown",
   "id": "348da9cc",
   "metadata": {},
   "source": [
    "Las distancias de 'distance' no tienen sentido en Madrid y Barcelona, en Nueva York coinciden y tienen snetido (comprobado), sin embargo tanto en Madrid como en Barcelona no (comprobado también, respecto a las coordenadas impuestas por mí). \n",
    "Por ello pasamos a utilizar la columna de distancia que se generó directamente en el primer json en vez de la de distance que hemos generado con el geoNear."
   ]
  },
  {
   "cell_type": "code",
   "execution_count": 146,
   "id": "bc9590cc",
   "metadata": {},
   "outputs": [
    {
     "data": {
      "text/html": [
       "<div>\n",
       "<style scoped>\n",
       "    .dataframe tbody tr th:only-of-type {\n",
       "        vertical-align: middle;\n",
       "    }\n",
       "\n",
       "    .dataframe tbody tr th {\n",
       "        vertical-align: top;\n",
       "    }\n",
       "\n",
       "    .dataframe thead th {\n",
       "        text-align: right;\n",
       "    }\n",
       "</style>\n",
       "<table border=\"1\" class=\"dataframe\">\n",
       "  <thead>\n",
       "    <tr style=\"text-align: right;\">\n",
       "      <th></th>\n",
       "      <th>nombre</th>\n",
       "      <th>ciudad</th>\n",
       "      <th>distancia</th>\n",
       "    </tr>\n",
       "  </thead>\n",
       "  <tbody>\n",
       "    <tr>\n",
       "      <th>18</th>\n",
       "      <td>Starbucks Diagonal 593</td>\n",
       "      <td>Barcelona</td>\n",
       "      <td>5753</td>\n",
       "    </tr>\n",
       "    <tr>\n",
       "      <th>19</th>\n",
       "      <td>Starbucks On The Go</td>\n",
       "      <td>Barcelona</td>\n",
       "      <td>5523</td>\n",
       "    </tr>\n",
       "    <tr>\n",
       "      <th>20</th>\n",
       "      <td>Secrid Pop Up Store</td>\n",
       "      <td>Barcelona</td>\n",
       "      <td>5443</td>\n",
       "    </tr>\n",
       "    <tr>\n",
       "      <th>21</th>\n",
       "      <td>What's Up! Berlín</td>\n",
       "      <td>Barcelona</td>\n",
       "      <td>5409</td>\n",
       "    </tr>\n",
       "    <tr>\n",
       "      <th>22</th>\n",
       "      <td>Starbucks Diagonal 640</td>\n",
       "      <td>Barcelona</td>\n",
       "      <td>5225</td>\n",
       "    </tr>\n",
       "  </tbody>\n",
       "</table>\n",
       "</div>"
      ],
      "text/plain": [
       "                    nombre     ciudad  distancia\n",
       "18  Starbucks Diagonal 593  Barcelona       5753\n",
       "19     Starbucks On The Go  Barcelona       5523\n",
       "20     Secrid Pop Up Store  Barcelona       5443\n",
       "21       What's Up! Berlín  Barcelona       5409\n",
       "22  Starbucks Diagonal 640  Barcelona       5225"
      ]
     },
     "execution_count": 146,
     "metadata": {},
     "output_type": "execute_result"
    }
   ],
   "source": [
    "Barcelona = json_normalize(bcn_response_json)\n",
    "Barcelona = Barcelona[['nombre', 'ciudad', 'distancia']]\n",
    "Barcelona = Barcelona[Barcelona['distancia'] < 6000]\n",
    "Barcelona.head()"
   ]
  },
  {
   "cell_type": "code",
   "execution_count": 147,
   "id": "c46bcdde",
   "metadata": {},
   "outputs": [
    {
     "data": {
      "text/html": [
       "<div>\n",
       "<style scoped>\n",
       "    .dataframe tbody tr th:only-of-type {\n",
       "        vertical-align: middle;\n",
       "    }\n",
       "\n",
       "    .dataframe tbody tr th {\n",
       "        vertical-align: top;\n",
       "    }\n",
       "\n",
       "    .dataframe thead th {\n",
       "        text-align: right;\n",
       "    }\n",
       "</style>\n",
       "<table border=\"1\" class=\"dataframe\">\n",
       "  <thead>\n",
       "    <tr style=\"text-align: right;\">\n",
       "      <th></th>\n",
       "      <th>nombre</th>\n",
       "      <th>ciudad</th>\n",
       "      <th>distancia</th>\n",
       "    </tr>\n",
       "  </thead>\n",
       "  <tbody>\n",
       "    <tr>\n",
       "      <th>9</th>\n",
       "      <td>Edificio Veganova, Alcobendas</td>\n",
       "      <td>Madrid</td>\n",
       "      <td>5476</td>\n",
       "    </tr>\n",
       "    <tr>\n",
       "      <th>10</th>\n",
       "      <td>Bar y Restaurante Payger</td>\n",
       "      <td>Alcobendas</td>\n",
       "      <td>5676</td>\n",
       "    </tr>\n",
       "    <tr>\n",
       "      <th>11</th>\n",
       "      <td>Bar Sube y Baja</td>\n",
       "      <td>Alcobendas</td>\n",
       "      <td>5293</td>\n",
       "    </tr>\n",
       "    <tr>\n",
       "      <th>13</th>\n",
       "      <td>Starbucks Diversia Alcobendas</td>\n",
       "      <td>Alcobendas</td>\n",
       "      <td>4172</td>\n",
       "    </tr>\n",
       "    <tr>\n",
       "      <th>15</th>\n",
       "      <td>Eventos Fly Up!</td>\n",
       "      <td>Madrid</td>\n",
       "      <td>4731</td>\n",
       "    </tr>\n",
       "  </tbody>\n",
       "</table>\n",
       "</div>"
      ],
      "text/plain": [
       "                           nombre      ciudad  distancia\n",
       "9   Edificio Veganova, Alcobendas      Madrid       5476\n",
       "10       Bar y Restaurante Payger  Alcobendas       5676\n",
       "11                Bar Sube y Baja  Alcobendas       5293\n",
       "13  Starbucks Diversia Alcobendas  Alcobendas       4172\n",
       "15                Eventos Fly Up!      Madrid       4731"
      ]
     },
     "execution_count": 147,
     "metadata": {},
     "output_type": "execute_result"
    }
   ],
   "source": [
    "Madrid = json_normalize(mad_response_json)\n",
    "Madrid = Madrid[['nombre', 'ciudad', 'distancia']]\n",
    "Madrid = Madrid[Madrid['distancia'] < 6000]\n",
    "Madrid.head()"
   ]
  },
  {
   "cell_type": "code",
   "execution_count": 149,
   "id": "ea535f11",
   "metadata": {},
   "outputs": [
    {
     "data": {
      "text/html": [
       "<div>\n",
       "<style scoped>\n",
       "    .dataframe tbody tr th:only-of-type {\n",
       "        vertical-align: middle;\n",
       "    }\n",
       "\n",
       "    .dataframe tbody tr th {\n",
       "        vertical-align: top;\n",
       "    }\n",
       "\n",
       "    .dataframe thead th {\n",
       "        text-align: right;\n",
       "    }\n",
       "</style>\n",
       "<table border=\"1\" class=\"dataframe\">\n",
       "  <thead>\n",
       "    <tr style=\"text-align: right;\">\n",
       "      <th></th>\n",
       "      <th>nombre</th>\n",
       "      <th>ciudad</th>\n",
       "      <th>distancia</th>\n",
       "    </tr>\n",
       "  </thead>\n",
       "  <tbody>\n",
       "    <tr>\n",
       "      <th>0</th>\n",
       "      <td>Starbucks</td>\n",
       "      <td>New York</td>\n",
       "      <td>55</td>\n",
       "    </tr>\n",
       "    <tr>\n",
       "      <th>1</th>\n",
       "      <td>CBOA Pick Up/Drop Off Point #1</td>\n",
       "      <td>New York</td>\n",
       "      <td>69</td>\n",
       "    </tr>\n",
       "    <tr>\n",
       "      <th>2</th>\n",
       "      <td>Starbucks</td>\n",
       "      <td>New York</td>\n",
       "      <td>83</td>\n",
       "    </tr>\n",
       "    <tr>\n",
       "      <th>3</th>\n",
       "      <td>Applebee's Grill + Bar</td>\n",
       "      <td>New York</td>\n",
       "      <td>96</td>\n",
       "    </tr>\n",
       "    <tr>\n",
       "      <th>4</th>\n",
       "      <td>TerraCycle: Green Up Shop</td>\n",
       "      <td>New York</td>\n",
       "      <td>144</td>\n",
       "    </tr>\n",
       "  </tbody>\n",
       "</table>\n",
       "</div>"
      ],
      "text/plain": [
       "                           nombre    ciudad  distancia\n",
       "0                       Starbucks  New York         55\n",
       "1  CBOA Pick Up/Drop Off Point #1  New York         69\n",
       "2                       Starbucks  New York         83\n",
       "3          Applebee's Grill + Bar  New York         96\n",
       "4       TerraCycle: Green Up Shop  New York        144"
      ]
     },
     "execution_count": 149,
     "metadata": {},
     "output_type": "execute_result"
    }
   ],
   "source": [
    "Newyork = json_normalize(ny_response_json)\n",
    "Newyork = Newyork[['nombre', 'ciudad', 'distancia']]\n",
    "Newyork = Newyork[Newyork['distancia'] < 6000]\n",
    "Newyork.head()"
   ]
  },
  {
   "cell_type": "code",
   "execution_count": 150,
   "id": "10b2a381",
   "metadata": {},
   "outputs": [
    {
     "data": {
      "text/plain": [
       "(44, 3)"
      ]
     },
     "execution_count": 150,
     "metadata": {},
     "output_type": "execute_result"
    }
   ],
   "source": [
    "Madrid.shape"
   ]
  },
  {
   "cell_type": "code",
   "execution_count": 151,
   "id": "c3a7da16",
   "metadata": {},
   "outputs": [
    {
     "data": {
      "text/plain": [
       "(135, 3)"
      ]
     },
     "execution_count": 151,
     "metadata": {},
     "output_type": "execute_result"
    }
   ],
   "source": [
    "Barcelona.shape"
   ]
  },
  {
   "cell_type": "code",
   "execution_count": 152,
   "id": "21f662ad",
   "metadata": {},
   "outputs": [
    {
     "data": {
      "text/plain": [
       "(212, 3)"
      ]
     },
     "execution_count": 152,
     "metadata": {},
     "output_type": "execute_result"
    }
   ],
   "source": [
    "Newyork.shape"
   ]
  },
  {
   "cell_type": "code",
   "execution_count": 156,
   "id": "edcbbe25",
   "metadata": {},
   "outputs": [],
   "source": [
    "# no funciona, no se por qué\n",
    "def todataframe (json):\n",
    "    df = json_normalize(f'{json}')\n",
    "    df = df[['nombre', 'ciudad', 'distancia']]\n",
    "    df = df[df['distancia'] < 6000]\n",
    "    return df"
   ]
  },
  {
   "cell_type": "code",
   "execution_count": null,
   "id": "06d9030b",
   "metadata": {},
   "outputs": [],
   "source": []
  }
 ],
 "metadata": {
  "kernelspec": {
   "display_name": "Python 3",
   "language": "python",
   "name": "python3"
  },
  "language_info": {
   "codemirror_mode": {
    "name": "ipython",
    "version": 3
   },
   "file_extension": ".py",
   "mimetype": "text/x-python",
   "name": "python",
   "nbconvert_exporter": "python",
   "pygments_lexer": "ipython3",
   "version": "3.8.8"
  }
 },
 "nbformat": 4,
 "nbformat_minor": 5
}
