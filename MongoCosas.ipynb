{
 "cells": [
  {
   "cell_type": "markdown",
   "id": "7f740b9c",
   "metadata": {},
   "source": [
    "vamos a morirnos"
   ]
  },
  {
   "cell_type": "code",
   "execution_count": 7,
   "id": "0981a7ee",
   "metadata": {},
   "outputs": [],
   "source": [
    "import requests\n",
    "import json\n",
    "from dotenv import load_dotenv\n",
    "import os\n",
    "import pandas as pd\n",
    "from pymongo import MongoClient\n",
    "from pandas import json_normalize\n",
    "from pymongo import MongoClient,GEOSPHERE\n",
    "import shapely.geometry\n",
    "import geopandas as gdp\n",
    "from bson.json_util import dumps"
   ]
  },
  {
   "cell_type": "code",
   "execution_count": 13,
   "id": "f40c6477",
   "metadata": {},
   "outputs": [],
   "source": [
    "import src.conversion_functions as cf \n",
    "import src.geofunctions as gf"
   ]
  },
  {
   "cell_type": "code",
   "execution_count": 6,
   "id": "3107b7d9",
   "metadata": {},
   "outputs": [],
   "source": [
    "df = pd.read_csv('newyork_data.csv', index_col = 0)\n",
    "df2 = pd.read_csv('mad_data.csv', index_col = 0)\n",
    "df3 = pd.read_csv('bcn_data.csv', index_col = 0)"
   ]
  },
  {
   "cell_type": "code",
   "execution_count": 18,
   "id": "b1d58d5b",
   "metadata": {},
   "outputs": [],
   "source": [
    "client = MongoClient(\"localhost:27017\")\n",
    "db = client.get_database(\"GeoProject3\")"
   ]
  },
  {
   "cell_type": "code",
   "execution_count": 21,
   "id": "aa9af5c0",
   "metadata": {},
   "outputs": [],
   "source": [
    "m = db.get_collection(\"mad\")\n",
    "b = db.get_collection(\"bcn\")\n",
    "ny = db.get_collection('ny')"
   ]
  },
  {
   "cell_type": "markdown",
   "id": "02d61440",
   "metadata": {},
   "source": [
    "Empezamos con las geoqueries"
   ]
  },
  {
   "cell_type": "markdown",
   "id": "089bc7ef",
   "metadata": {},
   "source": [
    "Las distancias de 'distance' no tienen sentido en Madrid y Barcelona, en Nueva York coinciden y tienen snetido (comprobado), sin embargo tanto en Madrid como en Barcelona no (comprobado también, respecto a las coordenadas impuestas por mí). \n",
    "Por ello pasamos a utilizar la columna de distancia que se generó directamente en el primer json en vez de la de distance que hemos generado con el geoNear.\n",
    "\n",
    "(Es mentira  que desde donde he puesto las coordenadas de Madrid, hasta el resturante vegano 'La huella Vegana' hay 500m, yo vivo al lado de este restaurante y hay bastnates kilómetros desde Las Rozas hasta la zona de 'La Vela' del BBVA)."
   ]
  },
  {
   "cell_type": "code",
   "execution_count": 22,
   "id": "01feea99",
   "metadata": {},
   "outputs": [],
   "source": [
    "ny_ = gf.todo2 ([-73.98996, 40.75673], ny)\n",
    "bcn_ = gf.todo2([-3.67097, 40.50222], b)"
   ]
  },
  {
   "cell_type": "code",
   "execution_count": 14,
   "id": "25ff7d5f",
   "metadata": {},
   "outputs": [
    {
     "data": {
      "text/html": [
       "<div>\n",
       "<style scoped>\n",
       "    .dataframe tbody tr th:only-of-type {\n",
       "        vertical-align: middle;\n",
       "    }\n",
       "\n",
       "    .dataframe tbody tr th {\n",
       "        vertical-align: top;\n",
       "    }\n",
       "\n",
       "    .dataframe thead th {\n",
       "        text-align: right;\n",
       "    }\n",
       "</style>\n",
       "<table border=\"1\" class=\"dataframe\">\n",
       "  <thead>\n",
       "    <tr style=\"text-align: right;\">\n",
       "      <th></th>\n",
       "      <th>nombre</th>\n",
       "      <th>ciudad</th>\n",
       "      <th>distancia</th>\n",
       "      <th>tipo</th>\n",
       "    </tr>\n",
       "  </thead>\n",
       "  <tbody>\n",
       "    <tr>\n",
       "      <th>9</th>\n",
       "      <td>Edificio Veganova, Alcobendas</td>\n",
       "      <td>Madrid</td>\n",
       "      <td>5476</td>\n",
       "      <td>Vegetarian / Vegan Restaurant</td>\n",
       "    </tr>\n",
       "    <tr>\n",
       "      <th>10</th>\n",
       "      <td>Bar y Restaurante Payger</td>\n",
       "      <td>Alcobendas</td>\n",
       "      <td>5676</td>\n",
       "      <td>Restaurant</td>\n",
       "    </tr>\n",
       "    <tr>\n",
       "      <th>11</th>\n",
       "      <td>Bar Sube y Baja</td>\n",
       "      <td>Alcobendas</td>\n",
       "      <td>5293</td>\n",
       "      <td>Café</td>\n",
       "    </tr>\n",
       "    <tr>\n",
       "      <th>13</th>\n",
       "      <td>Starbucks Diversia Alcobendas</td>\n",
       "      <td>Alcobendas</td>\n",
       "      <td>4172</td>\n",
       "      <td>Cafeteria</td>\n",
       "    </tr>\n",
       "    <tr>\n",
       "      <th>15</th>\n",
       "      <td>Eventos Fly Up!</td>\n",
       "      <td>Madrid</td>\n",
       "      <td>4731</td>\n",
       "      <td>University</td>\n",
       "    </tr>\n",
       "  </tbody>\n",
       "</table>\n",
       "</div>"
      ],
      "text/plain": [
       "                           nombre      ciudad  distancia  \\\n",
       "9   Edificio Veganova, Alcobendas      Madrid       5476   \n",
       "10       Bar y Restaurante Payger  Alcobendas       5676   \n",
       "11                Bar Sube y Baja  Alcobendas       5293   \n",
       "13  Starbucks Diversia Alcobendas  Alcobendas       4172   \n",
       "15                Eventos Fly Up!      Madrid       4731   \n",
       "\n",
       "                             tipo  \n",
       "9   Vegetarian / Vegan Restaurant  \n",
       "10                     Restaurant  \n",
       "11                           Café  \n",
       "13                      Cafeteria  \n",
       "15                     University  "
      ]
     },
     "execution_count": 14,
     "metadata": {},
     "output_type": "execute_result"
    }
   ],
   "source": [
    "mad_ = gf.todo2([2.19763, 41.40080], m)\n",
    "mad_.head()"
   ]
  },
  {
   "cell_type": "markdown",
   "id": "63e7589b",
   "metadata": {},
   "source": [
    "Ahora ya tenemos en 3 dataframes diferentes cada una de las ciudades con  nuestras 5 prioridades, no más lejos de 6 kilómetros.\n",
    "\n",
    "Lo que tenemos que hacer ahora, es agrupar cada una de estas prioridades y sacar la media dela distancia de las mismas, seguidamente se ponderará cada una por el valor escogido según la prioridad que tenga frente a las otras. Tendremos un valor por cada una de las 5 prioridades estudiadas y por cada ciudad, por ello tendremos que realizar otra operación para quedarnos solo con un número por ciudad, el cual será el indicativo de cuan buena es esa ciudad según las características que hemo impuesto para la apertura de la empresa."
   ]
  },
  {
   "cell_type": "markdown",
   "id": "496419d2",
   "metadata": {},
   "source": [
    "Vamos a hacer un groupby en cada dataframe por cada tipo diferente (para los Veganos, Startups, Veterinarios....)"
   ]
  },
  {
   "cell_type": "code",
   "execution_count": 54,
   "id": "540f9187",
   "metadata": {},
   "outputs": [
    {
     "data": {
      "text/html": [
       "<div>\n",
       "<style scoped>\n",
       "    .dataframe tbody tr th:only-of-type {\n",
       "        vertical-align: middle;\n",
       "    }\n",
       "\n",
       "    .dataframe tbody tr th {\n",
       "        vertical-align: top;\n",
       "    }\n",
       "\n",
       "    .dataframe thead th {\n",
       "        text-align: right;\n",
       "    }\n",
       "</style>\n",
       "<table border=\"1\" class=\"dataframe\">\n",
       "  <thead>\n",
       "    <tr style=\"text-align: right;\">\n",
       "      <th></th>\n",
       "      <th>tipo</th>\n",
       "      <th>distancia</th>\n",
       "    </tr>\n",
       "  </thead>\n",
       "  <tbody>\n",
       "    <tr>\n",
       "      <th>0</th>\n",
       "      <td>American Restaurant</td>\n",
       "      <td>406.333333</td>\n",
       "    </tr>\n",
       "    <tr>\n",
       "      <th>1</th>\n",
       "      <td>Art Gallery</td>\n",
       "      <td>566.500000</td>\n",
       "    </tr>\n",
       "    <tr>\n",
       "      <th>2</th>\n",
       "      <td>Arts &amp; Crafts Store</td>\n",
       "      <td>521.000000</td>\n",
       "    </tr>\n",
       "    <tr>\n",
       "      <th>3</th>\n",
       "      <td>Asian Restaurant</td>\n",
       "      <td>446.000000</td>\n",
       "    </tr>\n",
       "    <tr>\n",
       "      <th>4</th>\n",
       "      <td>BBQ Joint</td>\n",
       "      <td>544.000000</td>\n",
       "    </tr>\n",
       "  </tbody>\n",
       "</table>\n",
       "</div>"
      ],
      "text/plain": [
       "                  tipo   distancia\n",
       "0  American Restaurant  406.333333\n",
       "1          Art Gallery  566.500000\n",
       "2  Arts & Crafts Store  521.000000\n",
       "3     Asian Restaurant  446.000000\n",
       "4            BBQ Joint  544.000000"
      ]
     },
     "execution_count": 54,
     "metadata": {},
     "output_type": "execute_result"
    }
   ],
   "source": [
    "ny_agregado = gf.agrega(ny_)\n",
    "ny_agregado.head()"
   ]
  },
  {
   "cell_type": "markdown",
   "id": "f1197acc",
   "metadata": {},
   "source": [
    "NY\n",
    "\n",
    "Vegetarian / Vegan Restaurant = Vegan\n",
    "\n",
    "Tech Startup = Startup\n",
    "\n",
    "Bar = Bar\n",
    "\n",
    "Café = Starbuks\n",
    "\n",
    "Pet Service = Veterinarian"
   ]
  },
  {
   "cell_type": "code",
   "execution_count": 55,
   "id": "937f50d9",
   "metadata": {},
   "outputs": [
    {
     "data": {
      "text/html": [
       "<div>\n",
       "<style scoped>\n",
       "    .dataframe tbody tr th:only-of-type {\n",
       "        vertical-align: middle;\n",
       "    }\n",
       "\n",
       "    .dataframe tbody tr th {\n",
       "        vertical-align: top;\n",
       "    }\n",
       "\n",
       "    .dataframe thead th {\n",
       "        text-align: right;\n",
       "    }\n",
       "</style>\n",
       "<table border=\"1\" class=\"dataframe\">\n",
       "  <thead>\n",
       "    <tr style=\"text-align: right;\">\n",
       "      <th></th>\n",
       "      <th>tipo</th>\n",
       "      <th>distancia</th>\n",
       "    </tr>\n",
       "  </thead>\n",
       "  <tbody>\n",
       "    <tr>\n",
       "      <th>0</th>\n",
       "      <td>Bakery</td>\n",
       "      <td>5258.000000</td>\n",
       "    </tr>\n",
       "    <tr>\n",
       "      <th>1</th>\n",
       "      <td>Bar</td>\n",
       "      <td>2325.857143</td>\n",
       "    </tr>\n",
       "    <tr>\n",
       "      <th>2</th>\n",
       "      <td>Cafeteria</td>\n",
       "      <td>3047.500000</td>\n",
       "    </tr>\n",
       "    <tr>\n",
       "      <th>3</th>\n",
       "      <td>Café</td>\n",
       "      <td>4991.000000</td>\n",
       "    </tr>\n",
       "    <tr>\n",
       "      <th>4</th>\n",
       "      <td>Chinese Restaurant</td>\n",
       "      <td>445.000000</td>\n",
       "    </tr>\n",
       "  </tbody>\n",
       "</table>\n",
       "</div>"
      ],
      "text/plain": [
       "                 tipo    distancia\n",
       "0              Bakery  5258.000000\n",
       "1                 Bar  2325.857143\n",
       "2           Cafeteria  3047.500000\n",
       "3                Café  4991.000000\n",
       "4  Chinese Restaurant   445.000000"
      ]
     },
     "execution_count": 55,
     "metadata": {},
     "output_type": "execute_result"
    }
   ],
   "source": [
    "mad_agregado = gf.agrega(mad_)\n",
    "mad_agregado.head()"
   ]
  },
  {
   "cell_type": "markdown",
   "id": "53c2283f",
   "metadata": {},
   "source": [
    "MAD\n",
    "\n",
    "Vegetarian / Vegan Restaurant = Vegan\n",
    "\n",
    "Bar = Bar\n",
    "\n",
    "Cafeteria = Starbucks\n"
   ]
  },
  {
   "cell_type": "code",
   "execution_count": 76,
   "id": "21410f6c",
   "metadata": {},
   "outputs": [
    {
     "data": {
      "text/html": [
       "<div>\n",
       "<style scoped>\n",
       "    .dataframe tbody tr th:only-of-type {\n",
       "        vertical-align: middle;\n",
       "    }\n",
       "\n",
       "    .dataframe tbody tr th {\n",
       "        vertical-align: top;\n",
       "    }\n",
       "\n",
       "    .dataframe thead th {\n",
       "        text-align: right;\n",
       "    }\n",
       "</style>\n",
       "<table border=\"1\" class=\"dataframe\">\n",
       "  <thead>\n",
       "    <tr style=\"text-align: right;\">\n",
       "      <th></th>\n",
       "      <th>tipo</th>\n",
       "      <th>distancia</th>\n",
       "    </tr>\n",
       "  </thead>\n",
       "  <tbody>\n",
       "    <tr>\n",
       "      <th>0</th>\n",
       "      <td>Accessories Store</td>\n",
       "      <td>3210.5</td>\n",
       "    </tr>\n",
       "    <tr>\n",
       "      <th>1</th>\n",
       "      <td>Arts &amp; Crafts Store</td>\n",
       "      <td>2389.0</td>\n",
       "    </tr>\n",
       "    <tr>\n",
       "      <th>2</th>\n",
       "      <td>Athletics &amp; Sports</td>\n",
       "      <td>4540.0</td>\n",
       "    </tr>\n",
       "    <tr>\n",
       "      <th>3</th>\n",
       "      <td>Board Shop</td>\n",
       "      <td>2959.0</td>\n",
       "    </tr>\n",
       "    <tr>\n",
       "      <th>4</th>\n",
       "      <td>Building</td>\n",
       "      <td>1683.5</td>\n",
       "    </tr>\n",
       "  </tbody>\n",
       "</table>\n",
       "</div>"
      ],
      "text/plain": [
       "                  tipo  distancia\n",
       "0    Accessories Store     3210.5\n",
       "1  Arts & Crafts Store     2389.0\n",
       "2   Athletics & Sports     4540.0\n",
       "3           Board Shop     2959.0\n",
       "4             Building     1683.5"
      ]
     },
     "execution_count": 76,
     "metadata": {},
     "output_type": "execute_result"
    }
   ],
   "source": [
    "bcn_agregado = gf.agrega(bcn_)\n",
    "bcn_agregado.head()"
   ]
  },
  {
   "cell_type": "markdown",
   "id": "a419972a",
   "metadata": {},
   "source": [
    "BCN\n",
    "\n",
    "Vegetarian / Vegan restaurant = Vegan\n",
    "\n",
    "Café = Starbucks\n",
    "\n",
    "Tech Startup = Startup\n",
    "\n",
    "Food & Drink Shop = Bar\n"
   ]
  },
  {
   "cell_type": "markdown",
   "id": "b8ccd29d",
   "metadata": {},
   "source": [
    "## Primeras observaciones"
   ]
  },
  {
   "cell_type": "markdown",
   "id": "c920762d",
   "metadata": {},
   "source": [
    "Tan solo en Nueva York encontramos las 5 prioridades dentro un radio de 6 kilómetros y en Madrid solo tenemos 3 de las 5 prioridades.\n",
    "De primeras vamos a eliminar Madrid de nuestras posibles ciudades.\n",
    "El veterinario vamos a dejarlo en un segundo plano, aun sabiendo que sólo en Nuevea York hay a una distancia menor de 6km."
   ]
  },
  {
   "cell_type": "markdown",
   "id": "df95a162",
   "metadata": {},
   "source": [
    "Nos quedamos solo con los tipos que nos interesan :"
   ]
  },
  {
   "cell_type": "code",
   "execution_count": 77,
   "id": "5fa78c09",
   "metadata": {},
   "outputs": [],
   "source": [
    "ny_acortado = ny_agregado[(ny_agregado['tipo'] == 'Vegetarian / Vegan Restaurant') | (ny_agregado['tipo'] == 'Café') | (ny_agregado['tipo'] == 'Tech Startup') | (ny_agregado['tipo'] == 'Bar')]"
   ]
  },
  {
   "cell_type": "code",
   "execution_count": 78,
   "id": "cf326c3c",
   "metadata": {},
   "outputs": [
    {
     "data": {
      "text/html": [
       "<div>\n",
       "<style scoped>\n",
       "    .dataframe tbody tr th:only-of-type {\n",
       "        vertical-align: middle;\n",
       "    }\n",
       "\n",
       "    .dataframe tbody tr th {\n",
       "        vertical-align: top;\n",
       "    }\n",
       "\n",
       "    .dataframe thead th {\n",
       "        text-align: right;\n",
       "    }\n",
       "</style>\n",
       "<table border=\"1\" class=\"dataframe\">\n",
       "  <thead>\n",
       "    <tr style=\"text-align: right;\">\n",
       "      <th></th>\n",
       "      <th>tipo</th>\n",
       "      <th>distancia</th>\n",
       "    </tr>\n",
       "  </thead>\n",
       "  <tbody>\n",
       "    <tr>\n",
       "      <th>6</th>\n",
       "      <td>Bar</td>\n",
       "      <td>873.923077</td>\n",
       "    </tr>\n",
       "    <tr>\n",
       "      <th>12</th>\n",
       "      <td>Café</td>\n",
       "      <td>695.500000</td>\n",
       "    </tr>\n",
       "    <tr>\n",
       "      <th>54</th>\n",
       "      <td>Tech Startup</td>\n",
       "      <td>1475.000000</td>\n",
       "    </tr>\n",
       "    <tr>\n",
       "      <th>56</th>\n",
       "      <td>Vegetarian / Vegan Restaurant</td>\n",
       "      <td>2913.526316</td>\n",
       "    </tr>\n",
       "  </tbody>\n",
       "</table>\n",
       "</div>"
      ],
      "text/plain": [
       "                             tipo    distancia\n",
       "6                             Bar   873.923077\n",
       "12                           Café   695.500000\n",
       "54                   Tech Startup  1475.000000\n",
       "56  Vegetarian / Vegan Restaurant  2913.526316"
      ]
     },
     "execution_count": 78,
     "metadata": {},
     "output_type": "execute_result"
    }
   ],
   "source": [
    "ny_acortado"
   ]
  },
  {
   "cell_type": "code",
   "execution_count": 79,
   "id": "9233751e",
   "metadata": {},
   "outputs": [],
   "source": [
    "bcn_acortado = bcn_agregado[(bcn_agregado['tipo'] == 'Vegetarian / Vegan Restaurant') | (bcn_agregado['tipo'] == 'Café') | (bcn_agregado['tipo'] == 'Tech Startup') | (bcn_agregado['tipo'] == 'Food & Drink Shop')]"
   ]
  },
  {
   "cell_type": "code",
   "execution_count": 81,
   "id": "f5062147",
   "metadata": {},
   "outputs": [
    {
     "data": {
      "text/html": [
       "<div>\n",
       "<style scoped>\n",
       "    .dataframe tbody tr th:only-of-type {\n",
       "        vertical-align: middle;\n",
       "    }\n",
       "\n",
       "    .dataframe tbody tr th {\n",
       "        vertical-align: top;\n",
       "    }\n",
       "\n",
       "    .dataframe thead th {\n",
       "        text-align: right;\n",
       "    }\n",
       "</style>\n",
       "<table border=\"1\" class=\"dataframe\">\n",
       "  <thead>\n",
       "    <tr style=\"text-align: right;\">\n",
       "      <th></th>\n",
       "      <th>tipo</th>\n",
       "      <th>distancia</th>\n",
       "    </tr>\n",
       "  </thead>\n",
       "  <tbody>\n",
       "    <tr>\n",
       "      <th>5</th>\n",
       "      <td>Café</td>\n",
       "      <td>2605.500000</td>\n",
       "    </tr>\n",
       "    <tr>\n",
       "      <th>16</th>\n",
       "      <td>Food &amp; Drink Shop</td>\n",
       "      <td>2692.000000</td>\n",
       "    </tr>\n",
       "    <tr>\n",
       "      <th>29</th>\n",
       "      <td>Tech Startup</td>\n",
       "      <td>1632.666667</td>\n",
       "    </tr>\n",
       "    <tr>\n",
       "      <th>30</th>\n",
       "      <td>Vegetarian / Vegan Restaurant</td>\n",
       "      <td>2834.571429</td>\n",
       "    </tr>\n",
       "  </tbody>\n",
       "</table>\n",
       "</div>"
      ],
      "text/plain": [
       "                             tipo    distancia\n",
       "5                            Café  2605.500000\n",
       "16              Food & Drink Shop  2692.000000\n",
       "29                   Tech Startup  1632.666667\n",
       "30  Vegetarian / Vegan Restaurant  2834.571429"
      ]
     },
     "execution_count": 81,
     "metadata": {},
     "output_type": "execute_result"
    }
   ],
   "source": [
    "bcn_acortado"
   ]
  },
  {
   "cell_type": "markdown",
   "id": "2f3e5e96",
   "metadata": {},
   "source": [
    "## Ponderizamos"
   ]
  },
  {
   "cell_type": "markdown",
   "id": "4ae8da2f",
   "metadata": {},
   "source": [
    "Ahora por cada prioridad vamos a ponderizar de la siguiente manera:\n",
    "\n",
    "- Start up x 1.0\n",
    "\n",
    "- Vegano x 0.85\n",
    "\n",
    "- Starbucks x 0.75\n",
    "\n",
    "- Bar x 0.25\n",
    "\n",
    "(recordamos que NY es la única ciudad con veterinario cerca, pero para no descartar también Barcelona, vamos a dejar el veterinario en un segundo plano)"
   ]
  },
  {
   "cell_type": "markdown",
   "id": "7fe6558a",
   "metadata": {},
   "source": [
    "### Ponderización de Nueva York"
   ]
  },
  {
   "cell_type": "markdown",
   "id": "863d1d83",
   "metadata": {},
   "source": [
    "- Start up = 1475 x 1 = 1475\n",
    "- Vegano = 2913.52 x 0.85 = 2476.5\n",
    "- Starbucks = 695.5 x 0.75 = 521.63\n",
    "- Bar = 873.92 x 0.25 = 218.48"
   ]
  },
  {
   "cell_type": "markdown",
   "id": "63179f34",
   "metadata": {},
   "source": [
    "#### Normalización y puntuación final de Nueva York"
   ]
  },
  {
   "cell_type": "markdown",
   "id": "9378d163",
   "metadata": {},
   "source": [
    "4.69"
   ]
  },
  {
   "cell_type": "markdown",
   "id": "3aae02ec",
   "metadata": {},
   "source": [
    "### Ponderización de Barcelona"
   ]
  },
  {
   "cell_type": "markdown",
   "id": "5bcc5f52",
   "metadata": {},
   "source": [
    "- Start Up = 1632.66 x 1 = 1632.66\n",
    "- Vegano = 2834.57 x 0.85 = 2409.38\n",
    "- Starbucks = 2605.5 x 0.75 = 1954.13\n",
    "- Bar = 2692 x 0.25 = 673"
   ]
  },
  {
   "cell_type": "markdown",
   "id": "655caad0",
   "metadata": {},
   "source": [
    "#### Normalización y puntuación final de Barcelona"
   ]
  },
  {
   "cell_type": "markdown",
   "id": "ac6a0692",
   "metadata": {},
   "source": [
    "6.67"
   ]
  },
  {
   "cell_type": "markdown",
   "id": "64f01408",
   "metadata": {},
   "source": [
    "## Resultados y conclusiones"
   ]
  },
  {
   "cell_type": "markdown",
   "id": "669c0727",
   "metadata": {},
   "source": [
    "Estos valores últimos de de normalización y puntuación se han sacado de la siguiente manera:\n",
    "- Se han sumado todos los valores de cada ciudad y nos da un reultado del orden de maginitud de miles\n",
    "- Se divide este sumatorio entre 1000 para tener una normalización sobre 10\n",
    "- El mejor valor será el más bajo, esto nos indica que de forma general, las condiciones de la empresa se encuentran más cerca de nuestras coordenadas "
   ]
  },
  {
   "cell_type": "markdown",
   "id": "c94f8f91",
   "metadata": {},
   "source": [
    "Por lo tanto, ya que 4.69 < 6.67, Nueva York debería ser nuestra ciudad donde instalemos la empresa, ya que de una manera más general, tenemos los requerimientos más cerca que Barcelona y Madrid.\n",
    "Además, acordemonos de que Nueva York es la única ciudad con un veterinario en un radio menor de 6 kilómetros, por lo tanto un plus añadido."
   ]
  }
 ],
 "metadata": {
  "kernelspec": {
   "display_name": "Python 3",
   "language": "python",
   "name": "python3"
  },
  "language_info": {
   "codemirror_mode": {
    "name": "ipython",
    "version": 3
   },
   "file_extension": ".py",
   "mimetype": "text/x-python",
   "name": "python",
   "nbconvert_exporter": "python",
   "pygments_lexer": "ipython3",
   "version": "3.8.8"
  }
 },
 "nbformat": 4,
 "nbformat_minor": 5
}
