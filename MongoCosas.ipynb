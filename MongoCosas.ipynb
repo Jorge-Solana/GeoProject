{
 "cells": [
  {
   "cell_type": "markdown",
   "id": "7f740b9c",
   "metadata": {},
   "source": [
    "vamos a morirnos"
   ]
  },
  {
   "cell_type": "code",
   "execution_count": 1,
   "id": "0981a7ee",
   "metadata": {},
   "outputs": [],
   "source": [
    "import requests\n",
    "import json\n",
    "from dotenv import load_dotenv\n",
    "import os\n",
    "import pandas as pd\n",
    "from pymongo import MongoClient\n",
    "from pandas import json_normalize\n",
    "from pymongo import MongoClient,GEOSPHERE\n",
    "import shapely.geometry\n",
    "import geopandas as gdp\n",
    "from bson.json_util import dumps"
   ]
  },
  {
   "cell_type": "code",
   "execution_count": 2,
   "id": "3107b7d9",
   "metadata": {},
   "outputs": [],
   "source": [
    "df = pd.read_csv('newyork_data.csv', index_col = 0)\n",
    "df2 = pd.read_csv('mad_data.csv', index_col = 0)\n",
    "df3 = pd.read_csv('bcn_data.csv', index_col = 0)"
   ]
  },
  {
   "cell_type": "code",
   "execution_count": 3,
   "id": "6c5da8bc",
   "metadata": {},
   "outputs": [],
   "source": [
    "def funcionquefunciona (df,ciudad):\n",
    "    '''\n",
    "    Esta función va a recibir un dataframe y una ciudad y lo que va a hacer es, transformar ese dataframe en un\n",
    "    geodataframe generando las coordenadas como las lee mongo db y creando una nueva columna con las mismas (por cada\n",
    "    uno de los estableciemientos en nuestro dataframe original). Seguidamente, se conecta con Mongo db y nos crea \n",
    "    la base de datos con sus coleccions (la ciudad que le pasamos) y genera un index de tipo 2dspehere para cada valor\n",
    "    de la nueva columna de coordenadas generada antes, para poder hacer posteriormente las geoqueries.\n",
    "    Recibe: un dataframe y una ciudad\n",
    "    Devuelve: un mensaje que nos indica que la base de datos con las colecciones y los index han sido creados con éxito\n",
    "    \n",
    "    '''\n",
    "    gdf = gdp.GeoDataFrame(df, geometry= gdp.points_from_xy(df.lng, df.lat ))\n",
    "    print(gdf.columns)\n",
    "    gdf.columns=['nombre', 'lat','lng','ciudad','distancia','loc','loc2' ]\n",
    "    \n",
    "    gdf['loc2']= gdf['loc2'].apply(lambda x:shapely.geometry.mapping(x))\n",
    "    \n",
    "    client = MongoClient()\n",
    "    db = client.GeoProject\n",
    "    collection = db.create_collection(name = f'{ciudad}')\n",
    "    collection = db[f'{ciudad}']\n",
    "    collection.create_index([(\"loc2\", \"2dsphere\")])\n",
    "    data = gdf.to_dict(orient='records')\n",
    "    collection.insert_many(data)\n",
    "    \n",
    "    return 'Buenisima'"
   ]
  },
  {
   "cell_type": "code",
   "execution_count": 4,
   "id": "4213b35d",
   "metadata": {},
   "outputs": [
    {
     "data": {
      "text/plain": [
       "'Buenisima'"
      ]
     },
     "execution_count": 4,
     "metadata": {},
     "output_type": "execute_result"
    }
   ],
   "source": [
    "funcionquefunciona(df2,'mad')"
   ]
  },
  {
   "cell_type": "code",
   "execution_count": 5,
   "id": "4065b15a",
   "metadata": {},
   "outputs": [
    {
     "data": {
      "text/plain": [
       "'Buenisima'"
      ]
     },
     "execution_count": 5,
     "metadata": {},
     "output_type": "execute_result"
    }
   ],
   "source": [
    "funcionquefunciona(df3,'bnc')"
   ]
  },
  {
   "cell_type": "code",
   "execution_count": 20,
   "id": "c79cfc41",
   "metadata": {},
   "outputs": [],
   "source": [
    "lista1 = [df,df2,df3]\n",
    "lista2 = ['ny', 'mad','bcn']"
   ]
  },
  {
   "cell_type": "code",
   "execution_count": 21,
   "id": "328c9d54",
   "metadata": {},
   "outputs": [
    {
     "name": "stdout",
     "output_type": "stream",
     "text": [
      "Index(['nombre', 'lat', 'lng', 'ciudad', 'distancia', 'loc', 'geometry'], dtype='object')\n",
      "Index(['nombre', 'lat', 'lng', 'ciudad', 'distancia', 'loc', 'geometry'], dtype='object')\n",
      "Index(['nombre', 'lat', 'lng', 'ciudad', 'distancia', 'loc', 'geometry'], dtype='object')\n"
     ]
    }
   ],
   "source": [
    "for i,j in zip(lista1,lista2):\n",
    "    funcionquefunciona(i,j)"
   ]
  },
  {
   "cell_type": "markdown",
   "id": "c54707cc",
   "metadata": {},
   "source": [
    "#### Pasamos a hacer las geoqueries"
   ]
  },
  {
   "cell_type": "markdown",
   "id": "6274ff3c",
   "metadata": {},
   "source": [
    "Primero nos tenemos que conectar con la base de datos en Mongo"
   ]
  },
  {
   "cell_type": "code",
   "execution_count": 2,
   "id": "e6af7ba2",
   "metadata": {},
   "outputs": [],
   "source": [
    "from pymongo import MongoClient\n",
    "client = MongoClient(\"localhost:27017\")\n",
    "db = client.get_database(\"GeoProject\")"
   ]
  },
  {
   "cell_type": "code",
   "execution_count": 3,
   "id": "1eeeaf68",
   "metadata": {},
   "outputs": [
    {
     "data": {
      "text/plain": [
       "Database(MongoClient(host=['localhost:27017'], document_class=dict, tz_aware=False, connect=True), 'GeoProject')"
      ]
     },
     "execution_count": 3,
     "metadata": {},
     "output_type": "execute_result"
    }
   ],
   "source": [
    "db"
   ]
  },
  {
   "cell_type": "markdown",
   "id": "84885b70",
   "metadata": {},
   "source": [
    "Guardamos en variables las llamadas a las colecciones de Mongo para un uso mas cómodo"
   ]
  },
  {
   "cell_type": "code",
   "execution_count": 4,
   "id": "aa9af5c0",
   "metadata": {},
   "outputs": [],
   "source": [
    "m = db.get_collection(\"mad\")\n",
    "b = db.get_collection(\"bcn\")\n",
    "ny = db.get_collection('ny')"
   ]
  },
  {
   "cell_type": "markdown",
   "id": "02d61440",
   "metadata": {},
   "source": [
    "Empezamos con las geoqueries"
   ]
  },
  {
   "cell_type": "code",
   "execution_count": 57,
   "id": "46c4aa36",
   "metadata": {},
   "outputs": [],
   "source": [
    "# estas son las coordenadas que utilizaremos y en el formato que se tienen que usar (long, lat)\n",
    "coord_ny = [-73.98996, 40.75673]\n",
    "coord_mad = [2.19763, 41.40080]\n",
    "coord_bcn = [-3.67097, 40.50222]"
   ]
  },
  {
   "cell_type": "code",
   "execution_count": 8,
   "id": "2b3f396f",
   "metadata": {},
   "outputs": [],
   "source": [
    "query = [{'$geoNear': {'near':[-73.98996, 40.75673],\n",
    "                      'distanceField' : 'distance',\n",
    "                       'maxDistance': 6000,\n",
    "                       'distanceMultiplier': 6371,\n",
    "                       'spherical': True}}]"
   ]
  },
  {
   "cell_type": "code",
   "execution_count": 9,
   "id": "d590593a",
   "metadata": {},
   "outputs": [],
   "source": [
    "geoloc_ny = ny.aggregate(query)\n",
    "ny_response_json = json.loads(dumps(geoloc_ny))"
   ]
  },
  {
   "cell_type": "code",
   "execution_count": 10,
   "id": "3c37cc18",
   "metadata": {},
   "outputs": [],
   "source": [
    "query2 =[{'$geoNear': {'near':[2.19763, 41.40080],\n",
    "                      'distanceField' : 'distance',\n",
    "                       'maxDistance': 6000,\n",
    "                       'distanceMultiplier': 6371,\n",
    "                       'spherical': True}}]"
   ]
  },
  {
   "cell_type": "code",
   "execution_count": 11,
   "id": "e47e47f5",
   "metadata": {},
   "outputs": [],
   "source": [
    "geoloc_mad = m.aggregate(query2)\n",
    "mad_response_json = json.loads(dumps(geoloc_mad))"
   ]
  },
  {
   "cell_type": "code",
   "execution_count": 87,
   "id": "4aee781a",
   "metadata": {},
   "outputs": [],
   "source": [
    "coord = [[-73.98996, 40.75673], [2.19763, 41.40080], [-3.67097, 40.50222]]\n",
    "colecciones = [ny, m , b]"
   ]
  },
  {
   "cell_type": "code",
   "execution_count": 5,
   "id": "4908e0c2",
   "metadata": {},
   "outputs": [],
   "source": [
    "# no funciona bien, me dice que en aggregate un string no tiene esa cualidad, pero le estoy pasando una coleccion ... ?\n",
    "def geoquery(coordenadas, coleccion): #las coordenadas en formato lista (long y lat)\n",
    "    '''\n",
    "    Esta función, a partir de unas coordenadas y de una colección que tenemos creada en Mongo db, nos devuelve un json. \n",
    "    Esto lo hace a través de la query geoNear, donde esecificamos los criterios que debe seguir la misma. Después \n",
    "    llamamos a la colección y agregamos la query a la misma y a la respuesta que nos da le aplicamos un dumps y nos \n",
    "    devuelve un json con los ruquerimientos especificados.\n",
    "    Recibe: coordenadas (formato lista) y colección de Mongo db (previamente hecha la conexión)\n",
    "    Devuelve: json\n",
    "    '''\n",
    "    query = [{'$geoNear': {'near':f'{coordenadas}',\n",
    "                      'distanceField' : 'distance',\n",
    "                       'maxDistance': 6000,\n",
    "                       'distanceMultiplier': 6371,\n",
    "                       'spherical': True}}]\n",
    "    \n",
    "    col = f'{coleccion}'\n",
    "    geoloc = col.aggregate(query)\n",
    "    response_json = json.loads(dumps(geoloc))\n",
    "    \n",
    "    return response_json"
   ]
  },
  {
   "cell_type": "code",
   "execution_count": 12,
   "id": "9b45eabc",
   "metadata": {},
   "outputs": [],
   "source": [
    "query3 =[{'$geoNear': {'near':[-3.67097, 40.50222],\n",
    "                      'distanceField' : 'distance',\n",
    "                       'maxDistance': 6000,\n",
    "                       'distanceMultiplier': 6371,\n",
    "                       'spherical': True}}]"
   ]
  },
  {
   "cell_type": "code",
   "execution_count": 13,
   "id": "2e1b4d8e",
   "metadata": {},
   "outputs": [],
   "source": [
    "geoloc_bcn = b.aggregate(query3)\n",
    "bcn_response_json = json.loads(dumps(geoloc_bcn))"
   ]
  },
  {
   "cell_type": "markdown",
   "id": "089bc7ef",
   "metadata": {},
   "source": [
    "Las distancias de 'distance' no tienen sentido en Madrid y Barcelona, en Nueva York coinciden y tienen snetido (comprobado), sin embargo tanto en Madrid como en Barcelona no (comprobado también, respecto a las coordenadas impuestas por mí). \n",
    "Por ello pasamos a utilizar la columna de distancia que se generó directamente en el primer json en vez de la de distance que hemos generado con el geoNear.\n",
    "\n",
    "(Es mentira  que desde donde he puesto las coordenadas de Madrid, hasta el resturante vegano 'La huella Vegana' hay 500m, yo vivo al lado de este restaurante y hay bastnates kilómetros desde Las Rozas hasta la zona de 'La Vela' del BBVA)."
   ]
  },
  {
   "cell_type": "code",
   "execution_count": 24,
   "id": "703069da",
   "metadata": {},
   "outputs": [],
   "source": [
    "def toDataFrame (df):\n",
    "    '''\n",
    "    Esta función recibe un dataframe y nos lo limpia y filtra por la distancia que le especifiquemos.\n",
    "    Recibe: dataframe\n",
    "    Devuelve: dataframe filtrado \n",
    "    '''\n",
    "    \n",
    "    df = df[['nombre', 'ciudad', 'distancia']]\n",
    "    df = df[df['distancia'] < 6000]\n",
    "    return df"
   ]
  },
  {
   "cell_type": "code",
   "execution_count": 39,
   "id": "eef77ed7",
   "metadata": {},
   "outputs": [],
   "source": [
    "ny = toDataFrame(json_normalize(ny_response_json))"
   ]
  },
  {
   "cell_type": "code",
   "execution_count": 33,
   "id": "0c2069c3",
   "metadata": {},
   "outputs": [],
   "source": [
    "mad = toDataFrame(json_normalize(mad_response_json))"
   ]
  },
  {
   "cell_type": "code",
   "execution_count": 35,
   "id": "c6950bbf",
   "metadata": {},
   "outputs": [],
   "source": [
    "bcn = toDataFrame(json_normalize(bcn_response_json))"
   ]
  },
  {
   "cell_type": "code",
   "execution_count": 36,
   "id": "a22d485a",
   "metadata": {},
   "outputs": [
    {
     "data": {
      "text/html": [
       "<div>\n",
       "<style scoped>\n",
       "    .dataframe tbody tr th:only-of-type {\n",
       "        vertical-align: middle;\n",
       "    }\n",
       "\n",
       "    .dataframe tbody tr th {\n",
       "        vertical-align: top;\n",
       "    }\n",
       "\n",
       "    .dataframe thead th {\n",
       "        text-align: right;\n",
       "    }\n",
       "</style>\n",
       "<table border=\"1\" class=\"dataframe\">\n",
       "  <thead>\n",
       "    <tr style=\"text-align: right;\">\n",
       "      <th></th>\n",
       "      <th>nombre</th>\n",
       "      <th>ciudad</th>\n",
       "      <th>distancia</th>\n",
       "    </tr>\n",
       "  </thead>\n",
       "  <tbody>\n",
       "    <tr>\n",
       "      <th>0</th>\n",
       "      <td>Starbucks</td>\n",
       "      <td>New York</td>\n",
       "      <td>55</td>\n",
       "    </tr>\n",
       "    <tr>\n",
       "      <th>1</th>\n",
       "      <td>CBOA Pick Up/Drop Off Point #1</td>\n",
       "      <td>New York</td>\n",
       "      <td>69</td>\n",
       "    </tr>\n",
       "    <tr>\n",
       "      <th>2</th>\n",
       "      <td>Starbucks</td>\n",
       "      <td>New York</td>\n",
       "      <td>83</td>\n",
       "    </tr>\n",
       "    <tr>\n",
       "      <th>3</th>\n",
       "      <td>Applebee's Grill + Bar</td>\n",
       "      <td>New York</td>\n",
       "      <td>96</td>\n",
       "    </tr>\n",
       "    <tr>\n",
       "      <th>4</th>\n",
       "      <td>TerraCycle: Green Up Shop</td>\n",
       "      <td>New York</td>\n",
       "      <td>144</td>\n",
       "    </tr>\n",
       "  </tbody>\n",
       "</table>\n",
       "</div>"
      ],
      "text/plain": [
       "                           nombre    ciudad  distancia\n",
       "0                       Starbucks  New York         55\n",
       "1  CBOA Pick Up/Drop Off Point #1  New York         69\n",
       "2                       Starbucks  New York         83\n",
       "3          Applebee's Grill + Bar  New York         96\n",
       "4       TerraCycle: Green Up Shop  New York        144"
      ]
     },
     "execution_count": 36,
     "metadata": {},
     "output_type": "execute_result"
    }
   ],
   "source": [
    "ny.head()"
   ]
  },
  {
   "cell_type": "code",
   "execution_count": 37,
   "id": "d3a3ce2c",
   "metadata": {},
   "outputs": [
    {
     "data": {
      "text/html": [
       "<div>\n",
       "<style scoped>\n",
       "    .dataframe tbody tr th:only-of-type {\n",
       "        vertical-align: middle;\n",
       "    }\n",
       "\n",
       "    .dataframe tbody tr th {\n",
       "        vertical-align: top;\n",
       "    }\n",
       "\n",
       "    .dataframe thead th {\n",
       "        text-align: right;\n",
       "    }\n",
       "</style>\n",
       "<table border=\"1\" class=\"dataframe\">\n",
       "  <thead>\n",
       "    <tr style=\"text-align: right;\">\n",
       "      <th></th>\n",
       "      <th>nombre</th>\n",
       "      <th>ciudad</th>\n",
       "      <th>distancia</th>\n",
       "    </tr>\n",
       "  </thead>\n",
       "  <tbody>\n",
       "    <tr>\n",
       "      <th>9</th>\n",
       "      <td>Edificio Veganova, Alcobendas</td>\n",
       "      <td>Madrid</td>\n",
       "      <td>5476</td>\n",
       "    </tr>\n",
       "    <tr>\n",
       "      <th>10</th>\n",
       "      <td>Bar y Restaurante Payger</td>\n",
       "      <td>Alcobendas</td>\n",
       "      <td>5676</td>\n",
       "    </tr>\n",
       "    <tr>\n",
       "      <th>11</th>\n",
       "      <td>Bar Sube y Baja</td>\n",
       "      <td>Alcobendas</td>\n",
       "      <td>5293</td>\n",
       "    </tr>\n",
       "    <tr>\n",
       "      <th>13</th>\n",
       "      <td>Starbucks Diversia Alcobendas</td>\n",
       "      <td>Alcobendas</td>\n",
       "      <td>4172</td>\n",
       "    </tr>\n",
       "    <tr>\n",
       "      <th>15</th>\n",
       "      <td>Eventos Fly Up!</td>\n",
       "      <td>Madrid</td>\n",
       "      <td>4731</td>\n",
       "    </tr>\n",
       "  </tbody>\n",
       "</table>\n",
       "</div>"
      ],
      "text/plain": [
       "                           nombre      ciudad  distancia\n",
       "9   Edificio Veganova, Alcobendas      Madrid       5476\n",
       "10       Bar y Restaurante Payger  Alcobendas       5676\n",
       "11                Bar Sube y Baja  Alcobendas       5293\n",
       "13  Starbucks Diversia Alcobendas  Alcobendas       4172\n",
       "15                Eventos Fly Up!      Madrid       4731"
      ]
     },
     "execution_count": 37,
     "metadata": {},
     "output_type": "execute_result"
    }
   ],
   "source": [
    "mad.head()"
   ]
  },
  {
   "cell_type": "code",
   "execution_count": 38,
   "id": "916c371b",
   "metadata": {},
   "outputs": [
    {
     "data": {
      "text/html": [
       "<div>\n",
       "<style scoped>\n",
       "    .dataframe tbody tr th:only-of-type {\n",
       "        vertical-align: middle;\n",
       "    }\n",
       "\n",
       "    .dataframe tbody tr th {\n",
       "        vertical-align: top;\n",
       "    }\n",
       "\n",
       "    .dataframe thead th {\n",
       "        text-align: right;\n",
       "    }\n",
       "</style>\n",
       "<table border=\"1\" class=\"dataframe\">\n",
       "  <thead>\n",
       "    <tr style=\"text-align: right;\">\n",
       "      <th></th>\n",
       "      <th>nombre</th>\n",
       "      <th>ciudad</th>\n",
       "      <th>distancia</th>\n",
       "    </tr>\n",
       "  </thead>\n",
       "  <tbody>\n",
       "    <tr>\n",
       "      <th>18</th>\n",
       "      <td>Starbucks Diagonal 593</td>\n",
       "      <td>Barcelona</td>\n",
       "      <td>5753</td>\n",
       "    </tr>\n",
       "    <tr>\n",
       "      <th>19</th>\n",
       "      <td>Starbucks On The Go</td>\n",
       "      <td>Barcelona</td>\n",
       "      <td>5523</td>\n",
       "    </tr>\n",
       "    <tr>\n",
       "      <th>20</th>\n",
       "      <td>Secrid Pop Up Store</td>\n",
       "      <td>Barcelona</td>\n",
       "      <td>5443</td>\n",
       "    </tr>\n",
       "    <tr>\n",
       "      <th>21</th>\n",
       "      <td>What's Up! Berlín</td>\n",
       "      <td>Barcelona</td>\n",
       "      <td>5409</td>\n",
       "    </tr>\n",
       "    <tr>\n",
       "      <th>22</th>\n",
       "      <td>Starbucks Diagonal 640</td>\n",
       "      <td>Barcelona</td>\n",
       "      <td>5225</td>\n",
       "    </tr>\n",
       "  </tbody>\n",
       "</table>\n",
       "</div>"
      ],
      "text/plain": [
       "                    nombre     ciudad  distancia\n",
       "18  Starbucks Diagonal 593  Barcelona       5753\n",
       "19     Starbucks On The Go  Barcelona       5523\n",
       "20     Secrid Pop Up Store  Barcelona       5443\n",
       "21       What's Up! Berlín  Barcelona       5409\n",
       "22  Starbucks Diagonal 640  Barcelona       5225"
      ]
     },
     "execution_count": 38,
     "metadata": {},
     "output_type": "execute_result"
    }
   ],
   "source": [
    "bcn.head()"
   ]
  },
  {
   "cell_type": "markdown",
   "id": "63e7589b",
   "metadata": {},
   "source": [
    "Ahora ya tenemos en 3 dataframes diferentes cada una de las ciudades con  nuestras 5 prioridades, no más lejos de 6 kilómetros.\n",
    "\n",
    "Lo que tenemos que hacer ahora, es agrupar cada una de estas prioridades y sacar la media dela distancia de las mismas, seguidamente se ponderará cada una por el valor escogido según la prioridad que tenga frente a las otras. Tendremos un valor por cada una de las 5 prioridades estudiadas y por cada ciudad, por ello tendremos que realizar otra operación para quedarnos solo con un número por ciudad, el cual será el indicativo de cuan buena es esa ciudad según las características que hemo impuesto para la apertura de la empresa."
   ]
  },
  {
   "cell_type": "code",
   "execution_count": null,
   "id": "c2033854",
   "metadata": {},
   "outputs": [],
   "source": []
  }
 ],
 "metadata": {
  "kernelspec": {
   "display_name": "Python 3",
   "language": "python",
   "name": "python3"
  },
  "language_info": {
   "codemirror_mode": {
    "name": "ipython",
    "version": 3
   },
   "file_extension": ".py",
   "mimetype": "text/x-python",
   "name": "python",
   "nbconvert_exporter": "python",
   "pygments_lexer": "ipython3",
   "version": "3.8.8"
  }
 },
 "nbformat": 4,
 "nbformat_minor": 5
}
