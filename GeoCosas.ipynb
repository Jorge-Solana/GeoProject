{
 "cells": [
  {
   "cell_type": "code",
   "execution_count": 1,
   "id": "c98af589",
   "metadata": {},
   "outputs": [],
   "source": [
    "import requests\n",
    "import json\n",
    "from dotenv import load_dotenv\n",
    "import os\n",
    "import pandas as pd\n",
    "from pymongo import MongoClient\n",
    "from pandas import json_normalize\n",
    "from pymongo import MongoClient,GEOSPHERE\n",
    "import shapely.geometry\n",
    "import geopandas"
   ]
  },
  {
   "cell_type": "markdown",
   "id": "a5031f4f",
   "metadata": {},
   "source": [
    "Ya tenemos lo que queremos priorizar, lo cual es, en orden de mas prioritario a menos\n",
    "- Big starup\n",
    "- Vegan\n",
    "- Starbucks\n",
    "- Vet\n",
    "- Bar"
   ]
  },
  {
   "cell_type": "markdown",
   "id": "901cfd40",
   "metadata": {},
   "source": [
    "DataFrames chulos:\n",
    "- df_NewYork\n",
    "- df_Mad\n",
    "- df_Bcn\n",
    "\n",
    "Ahora lo que tenemos que hacer es convertirlos en geodataframes y meterles una nueva columna que sean las coordenadas en tipo point para poder hacer las geoqueries de la manera correspondiente"
   ]
  },
  {
   "cell_type": "code",
   "execution_count": 18,
   "id": "a8f9f94d",
   "metadata": {},
   "outputs": [
    {
     "data": {
      "text/plain": [
       "\"\\ndef export_to_Json (name, df):\\n    with open(f'{name}', 'w') as f:\\n        json.dump(df, f)\\n\""
      ]
     },
     "execution_count": 18,
     "metadata": {},
     "output_type": "execute_result"
    }
   ],
   "source": [
    "# mira que guapa\n",
    "# pero no la puedo usar, porque lo que viene despues, que son cosas de terminal que solo funcionan con mac...\n",
    "'''\n",
    "def export_to_Json (name, df):\n",
    "    with open(f'{name}', 'w') as f:\n",
    "        json.dump(df, f)\n",
    "'''"
   ]
  }
 ],
 "metadata": {
  "kernelspec": {
   "display_name": "Python 3",
   "language": "python",
   "name": "python3"
  },
  "language_info": {
   "codemirror_mode": {
    "name": "ipython",
    "version": 3
   },
   "file_extension": ".py",
   "mimetype": "text/x-python",
   "name": "python",
   "nbconvert_exporter": "python",
   "pygments_lexer": "ipython3",
   "version": "3.8.8"
  }
 },
 "nbformat": 4,
 "nbformat_minor": 5
}
