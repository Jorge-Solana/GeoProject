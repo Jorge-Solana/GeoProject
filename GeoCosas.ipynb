{
 "cells": [
  {
   "cell_type": "code",
   "execution_count": 28,
   "id": "c98af589",
   "metadata": {},
   "outputs": [],
   "source": [
    "import requests\n",
    "import json\n",
    "from dotenv import load_dotenv\n",
    "import os\n",
    "import pandas as pd\n",
    "from pymongo import MongoClient\n",
    "from pandas import json_normalize"
   ]
  },
  {
   "cell_type": "markdown",
   "id": "a5031f4f",
   "metadata": {},
   "source": [
    "Ya tenemos lo que queremos priorizar, lo cual es, en orden de mas prioritario a menos\n",
    "- Big starup\n",
    "- Vegan\n",
    "- Starbucks\n",
    "- Vet\n",
    "- Bar"
   ]
  },
  {
   "cell_type": "code",
   "execution_count": 12,
   "id": "ab9c4521",
   "metadata": {},
   "outputs": [
    {
     "data": {
      "text/plain": [
       "True"
      ]
     },
     "execution_count": 12,
     "metadata": {},
     "output_type": "execute_result"
    }
   ],
   "source": [
    "load_dotenv()"
   ]
  },
  {
   "cell_type": "code",
   "execution_count": 13,
   "id": "77e0314c",
   "metadata": {},
   "outputs": [],
   "source": [
    "client_id = os.getenv('Client_Id')\n",
    "client_secret = os.getenv('Client_Secret')"
   ]
  },
  {
   "cell_type": "code",
   "execution_count": 14,
   "id": "29b8e456",
   "metadata": {},
   "outputs": [],
   "source": [
    "# me hago una funcion que me convierte las coordenadas en tipo point"
   ]
  },
  {
   "cell_type": "code",
   "execution_count": 15,
   "id": "ef4821e6",
   "metadata": {},
   "outputs": [],
   "source": [
    "def type_point(lista):\n",
    "    return {\"type\": \"Point\", \n",
    "            \"coordinates\": lista\n",
    "    }"
   ]
  },
  {
   "cell_type": "code",
   "execution_count": 16,
   "id": "7f5561cc",
   "metadata": {},
   "outputs": [],
   "source": [
    "url_query = 'https://api.foursquare.com/v2/venues/search'"
   ]
  },
  {
   "cell_type": "code",
   "execution_count": 115,
   "id": "bc0dd91b",
   "metadata": {},
   "outputs": [],
   "source": [
    "#esto para los veganos en ny"
   ]
  },
  {
   "cell_type": "code",
   "execution_count": 32,
   "id": "2280c3a5",
   "metadata": {},
   "outputs": [],
   "source": [
    "parametros_v = {\n",
    "    \"client_id\": client_id,\n",
    "    \"client_secret\": client_secret,\n",
    "    \"v\": \"20180323\",\n",
    "    \"ll\": '40.75673, -73.98996',\n",
    "    \"query\": \"Vegan\",\n",
    "    \"limit\": 200   \n",
    "}"
   ]
  },
  {
   "cell_type": "code",
   "execution_count": 33,
   "id": "ad84e6d8",
   "metadata": {},
   "outputs": [],
   "source": [
    "resp_vegan = requests.get(url_query, params=parametros_v).json()['response']['venues']"
   ]
  },
  {
   "cell_type": "code",
   "execution_count": 49,
   "id": "228d91d6",
   "metadata": {},
   "outputs": [
    {
     "data": {
      "text/plain": [
       "dict_keys(['address', 'lat', 'lng', 'labeledLatLngs', 'distance', 'postalCode', 'cc', 'city', 'state', 'country', 'formattedAddress'])"
      ]
     },
     "execution_count": 49,
     "metadata": {},
     "output_type": "execute_result"
    }
   ],
   "source": [
    "resp_vegan[0]['location'].keys()"
   ]
  },
  {
   "cell_type": "code",
   "execution_count": 113,
   "id": "356f8432",
   "metadata": {},
   "outputs": [],
   "source": [
    "#resp_vegan[0]"
   ]
  },
  {
   "cell_type": "code",
   "execution_count": 59,
   "id": "22c09568",
   "metadata": {},
   "outputs": [
    {
     "name": "stdout",
     "output_type": "stream",
     "text": [
      "['location', 'city']\n"
     ]
    }
   ],
   "source": [
    "mapa_nombre = ['name']\n",
    "mapa_latitud = ['location','lat']\n",
    "mapa_longitud = ['location', 'lng']\n",
    "mapa_ciudad = ['location','city']\n",
    "mapa_distancia = ['location','distance']\n",
    "print(mapa_ciudad)"
   ]
  },
  {
   "cell_type": "code",
   "execution_count": 57,
   "id": "90ea78d3",
   "metadata": {},
   "outputs": [],
   "source": [
    "def getFromDict(diccionario, mapa):\n",
    "    from functools import reduce\n",
    "    import operator\n",
    "    return reduce(operator.getitem,mapa,diccionario)"
   ]
  },
  {
   "cell_type": "code",
   "execution_count": 85,
   "id": "56256413",
   "metadata": {},
   "outputs": [
    {
     "data": {
      "text/plain": [
       "'Omv! Vegan Burgers & More'"
      ]
     },
     "execution_count": 85,
     "metadata": {},
     "output_type": "execute_result"
    }
   ],
   "source": [
    "getFromDict(resp_vegan[0], mapa_nombre)"
   ]
  },
  {
   "cell_type": "code",
   "execution_count": 68,
   "id": "93bc60f8",
   "metadata": {},
   "outputs": [
    {
     "data": {
      "text/plain": [
       "'Omv! Vegan Burgers & More'"
      ]
     },
     "execution_count": 68,
     "metadata": {},
     "output_type": "execute_result"
    }
   ],
   "source": [
    "resp_vegan[0][\"name\"]"
   ]
  },
  {
   "cell_type": "code",
   "execution_count": 109,
   "id": "cac740b4",
   "metadata": {
    "scrolled": false
   },
   "outputs": [
    {
     "ename": "SyntaxError",
     "evalue": "unexpected EOF while parsing (<ipython-input-109-0393abd75713>, line 13)",
     "output_type": "error",
     "traceback": [
      "\u001b[0;36m  File \u001b[0;32m\"<ipython-input-109-0393abd75713>\"\u001b[0;36m, line \u001b[0;32m13\u001b[0m\n\u001b[0;31m    \u001b[0m\n\u001b[0m    ^\u001b[0m\n\u001b[0;31mSyntaxError\u001b[0m\u001b[0;31m:\u001b[0m unexpected EOF while parsing\n"
     ]
    }
   ],
   "source": [
    "vegan_json = []\n",
    "for dic in resp_vegan:\n",
    "    try:\n",
    "        lista= {}\n",
    "        lista['nombre']= getFromDict(dic,mapa_nombre)\n",
    "        lista['latitud']= getFromDict(dic,mapa_latitud)\n",
    "        lista['longitud']= getFromDict(dic,mapa_longitud)\n",
    "        lista['ciudad']= getFromDict(dic,mapa_ciudad)\n",
    "        lista['distancia'] = getFromDict(dic,mapa_distancia)\n",
    "        vegan_json.append(lista)\n",
    "    except:\n",
    "        #print(dic)\n",
    "    "
   ]
  },
  {
   "cell_type": "code",
   "execution_count": 112,
   "id": "127a5568",
   "metadata": {
    "scrolled": true
   },
   "outputs": [
    {
     "data": {
      "text/html": [
       "<div>\n",
       "<style scoped>\n",
       "    .dataframe tbody tr th:only-of-type {\n",
       "        vertical-align: middle;\n",
       "    }\n",
       "\n",
       "    .dataframe tbody tr th {\n",
       "        vertical-align: top;\n",
       "    }\n",
       "\n",
       "    .dataframe thead th {\n",
       "        text-align: right;\n",
       "    }\n",
       "</style>\n",
       "<table border=\"1\" class=\"dataframe\">\n",
       "  <thead>\n",
       "    <tr style=\"text-align: right;\">\n",
       "      <th></th>\n",
       "      <th>nombre</th>\n",
       "      <th>latitud</th>\n",
       "      <th>longitud</th>\n",
       "      <th>ciudad</th>\n",
       "      <th>distancia</th>\n",
       "    </tr>\n",
       "  </thead>\n",
       "  <tbody>\n",
       "    <tr>\n",
       "      <th>0</th>\n",
       "      <td>Omv! Vegan Burgers &amp; More</td>\n",
       "      <td>40.757819</td>\n",
       "      <td>-73.985537</td>\n",
       "      <td>New York</td>\n",
       "      <td>392</td>\n",
       "    </tr>\n",
       "    <tr>\n",
       "      <th>1</th>\n",
       "      <td>Marty's Vegan Fast Foods</td>\n",
       "      <td>40.750163</td>\n",
       "      <td>-73.988871</td>\n",
       "      <td>New York</td>\n",
       "      <td>736</td>\n",
       "    </tr>\n",
       "    <tr>\n",
       "      <th>2</th>\n",
       "      <td>MTHR Vegan</td>\n",
       "      <td>40.762373</td>\n",
       "      <td>-73.987867</td>\n",
       "      <td>New York</td>\n",
       "      <td>652</td>\n",
       "    </tr>\n",
       "    <tr>\n",
       "      <th>3</th>\n",
       "      <td>Happy Zoe Vegan Bakery</td>\n",
       "      <td>40.719246</td>\n",
       "      <td>-73.944252</td>\n",
       "      <td>New York</td>\n",
       "      <td>5681</td>\n",
       "    </tr>\n",
       "    <tr>\n",
       "      <th>4</th>\n",
       "      <td>Maoz Vegan</td>\n",
       "      <td>40.751706</td>\n",
       "      <td>-73.974375</td>\n",
       "      <td>New York</td>\n",
       "      <td>1428</td>\n",
       "    </tr>\n",
       "  </tbody>\n",
       "</table>\n",
       "</div>"
      ],
      "text/plain": [
       "                      nombre    latitud   longitud    ciudad  distancia\n",
       "0  Omv! Vegan Burgers & More  40.757819 -73.985537  New York        392\n",
       "1   Marty's Vegan Fast Foods  40.750163 -73.988871  New York        736\n",
       "2                 MTHR Vegan  40.762373 -73.987867  New York        652\n",
       "3     Happy Zoe Vegan Bakery  40.719246 -73.944252  New York       5681\n",
       "4                 Maoz Vegan  40.751706 -73.974375  New York       1428"
      ]
     },
     "execution_count": 112,
     "metadata": {},
     "output_type": "execute_result"
    }
   ],
   "source": [
    "df_vegans_ny=pd.DataFrame(vegan_json)\n",
    "df_vegans_ny.head()"
   ]
  },
  {
   "cell_type": "code",
   "execution_count": 125,
   "id": "508ea0c4",
   "metadata": {},
   "outputs": [],
   "source": [
    "def getAPI(url_query, coordenadas, query): #coordenadas en string, latitud y longitud (en ese orden)\n",
    "    parametros = {\n",
    "    \"client_id\": client_id,\n",
    "    \"client_secret\": client_secret,\n",
    "    \"v\": \"20180323\",\n",
    "    \"ll\": f'{coordenadas}',\n",
    "    \"query\": f\"{query}\",\n",
    "    \"limit\": 200   \n",
    "}\n",
    "    resp = requests.get(url_query, params=parametros).json()['response']['venues']\n",
    "    \n",
    "    return resp"
   ]
  },
  {
   "cell_type": "code",
   "execution_count": 144,
   "id": "1b3cb3eb",
   "metadata": {},
   "outputs": [],
   "source": [
    "def limpiezaresp(json):\n",
    "    \n",
    "    mapa_nombre = ['name']\n",
    "    mapa_latitud = ['location','lat']\n",
    "    mapa_longitud = ['location', 'lng']\n",
    "    mapa_ciudad = ['location','city']\n",
    "    mapa_distancia = ['location','distance']\n",
    "    \n",
    "    jason = []\n",
    "    \n",
    "    for dic in json:\n",
    "        try:\n",
    "            diccio= {}\n",
    "            diccio['nombre']= getFromDict(dic,mapa_nombre)\n",
    "            diccio['latitud']= getFromDict(dic,mapa_latitud)\n",
    "            diccio['longitud']= getFromDict(dic,mapa_longitud)\n",
    "            diccio['ciudad']= getFromDict(dic,mapa_ciudad)\n",
    "            diccio['distancia'] = getFromDict(dic,mapa_distancia)\n",
    "            jason.append(diccio)\n",
    "        except:\n",
    "            pass\n",
    "    return pd.DataFrame(jason)"
   ]
  },
  {
   "cell_type": "code",
   "execution_count": 145,
   "id": "5bcd0f2a",
   "metadata": {},
   "outputs": [],
   "source": [
    "def todo(url_query, coordenadas, query):\n",
    "    api = getAPI(url_query, coordenadas, query)\n",
    "    return limpiezaresp(api)"
   ]
  },
  {
   "cell_type": "code",
   "execution_count": 148,
   "id": "d5393904",
   "metadata": {},
   "outputs": [],
   "source": [
    "df_vegans_ny = todo('https://api.foursquare.com/v2/venues/search','40.75673, -73.98996', 'Vegan')"
   ]
  },
  {
   "cell_type": "code",
   "execution_count": 150,
   "id": "e6fc725d",
   "metadata": {},
   "outputs": [
    {
     "data": {
      "text/html": [
       "<div>\n",
       "<style scoped>\n",
       "    .dataframe tbody tr th:only-of-type {\n",
       "        vertical-align: middle;\n",
       "    }\n",
       "\n",
       "    .dataframe tbody tr th {\n",
       "        vertical-align: top;\n",
       "    }\n",
       "\n",
       "    .dataframe thead th {\n",
       "        text-align: right;\n",
       "    }\n",
       "</style>\n",
       "<table border=\"1\" class=\"dataframe\">\n",
       "  <thead>\n",
       "    <tr style=\"text-align: right;\">\n",
       "      <th></th>\n",
       "      <th>nombre</th>\n",
       "      <th>latitud</th>\n",
       "      <th>longitud</th>\n",
       "      <th>ciudad</th>\n",
       "      <th>distancia</th>\n",
       "    </tr>\n",
       "  </thead>\n",
       "  <tbody>\n",
       "    <tr>\n",
       "      <th>0</th>\n",
       "      <td>Omv! Vegan Burgers &amp; More</td>\n",
       "      <td>40.757819</td>\n",
       "      <td>-73.985537</td>\n",
       "      <td>New York</td>\n",
       "      <td>392</td>\n",
       "    </tr>\n",
       "    <tr>\n",
       "      <th>1</th>\n",
       "      <td>MTHR Vegan</td>\n",
       "      <td>40.762373</td>\n",
       "      <td>-73.987867</td>\n",
       "      <td>New York</td>\n",
       "      <td>652</td>\n",
       "    </tr>\n",
       "    <tr>\n",
       "      <th>2</th>\n",
       "      <td>Marty's Vegan Fast Foods</td>\n",
       "      <td>40.750163</td>\n",
       "      <td>-73.988871</td>\n",
       "      <td>New York</td>\n",
       "      <td>736</td>\n",
       "    </tr>\n",
       "    <tr>\n",
       "      <th>3</th>\n",
       "      <td>Happy Zoe Vegan Bakery</td>\n",
       "      <td>40.719246</td>\n",
       "      <td>-73.944252</td>\n",
       "      <td>New York</td>\n",
       "      <td>5681</td>\n",
       "    </tr>\n",
       "    <tr>\n",
       "      <th>4</th>\n",
       "      <td>Maoz Vegan</td>\n",
       "      <td>40.751706</td>\n",
       "      <td>-73.974375</td>\n",
       "      <td>New York</td>\n",
       "      <td>1428</td>\n",
       "    </tr>\n",
       "  </tbody>\n",
       "</table>\n",
       "</div>"
      ],
      "text/plain": [
       "                      nombre    latitud   longitud    ciudad  distancia\n",
       "0  Omv! Vegan Burgers & More  40.757819 -73.985537  New York        392\n",
       "1                 MTHR Vegan  40.762373 -73.987867  New York        652\n",
       "2   Marty's Vegan Fast Foods  40.750163 -73.988871  New York        736\n",
       "3     Happy Zoe Vegan Bakery  40.719246 -73.944252  New York       5681\n",
       "4                 Maoz Vegan  40.751706 -73.974375  New York       1428"
      ]
     },
     "execution_count": 150,
     "metadata": {},
     "output_type": "execute_result"
    }
   ],
   "source": [
    "df_vegans_ny.head()"
   ]
  },
  {
   "cell_type": "code",
   "execution_count": 151,
   "id": "2bebab45",
   "metadata": {},
   "outputs": [],
   "source": [
    "lista = ['Vegan', 'Start Up', 'Veterinary', 'Bar', 'Starbucks']"
   ]
  },
  {
   "cell_type": "code",
   "execution_count": 152,
   "id": "6234c39f",
   "metadata": {},
   "outputs": [],
   "source": [
    "for i in lista:\n",
    "    df_ny = todo('https://api.foursquare.com/v2/venues/search','40.75673, -73.98996', i)"
   ]
  },
  {
   "cell_type": "code",
   "execution_count": 155,
   "id": "bd0092c5",
   "metadata": {},
   "outputs": [
    {
     "data": {
      "text/plain": [
       "(50, 5)"
      ]
     },
     "execution_count": 155,
     "metadata": {},
     "output_type": "execute_result"
    }
   ],
   "source": [
    "df_ny.shape"
   ]
  },
  {
   "cell_type": "code",
   "execution_count": 147,
   "id": "da1c97cb",
   "metadata": {},
   "outputs": [],
   "source": [
    "# me creo dos listas, una con las coordenadas de cada place mio y otra con mis cosas que quiero buscar en la API \n",
    "# y hacer un zip sobre ello"
   ]
  },
  {
   "cell_type": "code",
   "execution_count": null,
   "id": "417b3100",
   "metadata": {},
   "outputs": [],
   "source": []
  },
  {
   "cell_type": "code",
   "execution_count": 116,
   "id": "a8ea66dd",
   "metadata": {},
   "outputs": [],
   "source": [
    "# ahora para las startups en NY (buscar el valor de cada una en google)"
   ]
  }
 ],
 "metadata": {
  "kernelspec": {
   "display_name": "Python 3",
   "language": "python",
   "name": "python3"
  },
  "language_info": {
   "codemirror_mode": {
    "name": "ipython",
    "version": 3
   },
   "file_extension": ".py",
   "mimetype": "text/x-python",
   "name": "python",
   "nbconvert_exporter": "python",
   "pygments_lexer": "ipython3",
   "version": "3.8.8"
  }
 },
 "nbformat": 4,
 "nbformat_minor": 5
}
