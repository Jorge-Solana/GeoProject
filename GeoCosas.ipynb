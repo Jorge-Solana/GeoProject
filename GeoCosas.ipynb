{
 "cells": [
  {
   "cell_type": "code",
   "execution_count": 10,
   "id": "c98af589",
   "metadata": {},
   "outputs": [],
   "source": [
    "import requests\n",
    "import json\n",
    "from dotenv import load_dotenv\n",
    "import os\n",
    "import pandas as pd\n",
    "from pymongo import MongoClient\n",
    "from pandas import json_normalize\n",
    "from pymongo import MongoClient,GEOSPHERE\n",
    "import shapely.geometry\n",
    "import geopandas"
   ]
  },
  {
   "cell_type": "markdown",
   "id": "a5031f4f",
   "metadata": {},
   "source": [
    "Ya tenemos lo que queremos priorizar, lo cual es, en orden de mas prioritario a menos\n",
    "- Big starup\n",
    "- Vegan\n",
    "- Starbucks\n",
    "- Vet\n",
    "- Bar"
   ]
  },
  {
   "cell_type": "code",
   "execution_count": 11,
   "id": "ab9c4521",
   "metadata": {},
   "outputs": [
    {
     "data": {
      "text/plain": [
       "True"
      ]
     },
     "execution_count": 11,
     "metadata": {},
     "output_type": "execute_result"
    }
   ],
   "source": [
    "load_dotenv()"
   ]
  },
  {
   "cell_type": "code",
   "execution_count": 12,
   "id": "77e0314c",
   "metadata": {},
   "outputs": [],
   "source": [
    "client_id = os.getenv('Client_Id')\n",
    "client_secret = os.getenv('Client_Secret')\n"
   ]
  },
  {
   "cell_type": "code",
   "execution_count": 13,
   "id": "99295771",
   "metadata": {},
   "outputs": [
    {
     "data": {
      "text/plain": [
       "'5DYNBHMUAHF12PPNJMU1ACHI4AXFZZZRBNSDBW5Y4Y0VXVJL'"
      ]
     },
     "execution_count": 13,
     "metadata": {},
     "output_type": "execute_result"
    }
   ],
   "source": [
    "client_secret"
   ]
  },
  {
   "cell_type": "code",
   "execution_count": 14,
   "id": "7f5561cc",
   "metadata": {},
   "outputs": [],
   "source": [
    "url_query = 'https://api.foursquare.com/v2/venues/search'"
   ]
  },
  {
   "cell_type": "code",
   "execution_count": 15,
   "id": "90ea78d3",
   "metadata": {},
   "outputs": [],
   "source": [
    "def getFromDict(diccionario, mapa):\n",
    "    '''\n",
    "    Esta función bucea por el diccionario que le damos en base a un mapa (ruta) que también se le da.\n",
    "    Dentro de el diccionario irá a donde el mapa le indique.\n",
    "    Recibe : diccionario y mapa ('hoja de ruta')\n",
    "    Devuelve: lo espcificado dentro del diccionario pr el mapa\n",
    "    '''\n",
    "    from functools import reduce\n",
    "    import operator\n",
    "    return reduce(operator.getitem,mapa,diccionario)"
   ]
  },
  {
   "cell_type": "code",
   "execution_count": 93,
   "id": "508ea0c4",
   "metadata": {},
   "outputs": [],
   "source": [
    "def getAPI(url_query, coordenadas, query): #coordenadas en string, latitud y longitud (en ese orden)\n",
    "    '''\n",
    "    Esta función llama a la API en base a unas coordenadas y a una query que le demos (restaurantes, gimansios, etc.) \n",
    "    y nos devuelve un json.\n",
    "    Recibe : url de la API, coordenadas (en formato string), query (qué queremos que nos busque)\n",
    "    Devuelve: json en base a los parámetros establecidos\n",
    "    '''\n",
    "    parametros = {\n",
    "    \"client_id\": client_id,\n",
    "    \"client_secret\": client_secret,\n",
    "    \"v\": \"20180323\",\n",
    "    \"ll\": f'{coordenadas}',\n",
    "    \"query\": f\"{query}\",\n",
    "    \"limit\": 200   \n",
    "}\n",
    "    resp = requests.get(url_query, params=parametros).json()['response']['venues']\n",
    "    \n",
    "    return resp"
   ]
  },
  {
   "cell_type": "code",
   "execution_count": 92,
   "id": "1b3cb3eb",
   "metadata": {},
   "outputs": [],
   "source": [
    "def limpiezaresp(json):\n",
    "    '''\n",
    "    Esta función limpia la respuesta json que nos devuelve la llamada a la API.\n",
    "    Dentro del for loop llama a la función getFromDict con los mapas(rutas), establecidos en esta función,\n",
    "    y coge lo que le indicamos dentro de esa ruta y lo coloca ordenado según lo que le indiquemos (nombre, logitud, etc).\n",
    "    Estas itercaiones las coloca en un json nuevo (jason), al que se va apendando cada iteración. Para meter en el dataframe \n",
    "    final que queremos la columna de tipo, generamos el for dentro del for para llegar a la indicación 'name' y que nos \n",
    "    meta en el df una nueva columan 'tipo'\n",
    "    \n",
    "    Recibe: json\n",
    "    Devuelve: dataframe con 6 columnas\n",
    "    \n",
    "    '''\n",
    "    mapa_nombre = ['name']\n",
    "    mapa_latitud = ['location','lat']\n",
    "    mapa_longitud = ['location', 'lng']\n",
    "    mapa_ciudad = ['location','city']\n",
    "    mapa_distancia = ['location','distance']\n",
    "    \n",
    "    \n",
    "    jason = []\n",
    "    \n",
    "    for dic in json:\n",
    "        try:\n",
    "            diccio= {}\n",
    "            diccio['nombre']= getFromDict(dic,mapa_nombre)\n",
    "            diccio['latitud']= getFromDict(dic,mapa_latitud)\n",
    "            diccio['longitud']= getFromDict(dic,mapa_longitud)\n",
    "            diccio['ciudad']= getFromDict(dic,mapa_ciudad)\n",
    "            diccio['distancia'] = getFromDict(dic,mapa_distancia)\n",
    "            jason.append(diccio)\n",
    "        except:\n",
    "            pass\n",
    "    \n",
    "    df = pd.DataFrame(jason)\n",
    "    \n",
    "    tipo = []\n",
    "    for i in json:\n",
    "        for z in i[\"categories\"]:\n",
    "            tipo.append(z[\"name\"])\n",
    "    tipo = pd.Series(tipo)\n",
    "    \n",
    "    df['tipo'] = tipo\n",
    "    \n",
    "    return df"
   ]
  },
  {
   "cell_type": "code",
   "execution_count": 89,
   "id": "5bcd0f2a",
   "metadata": {},
   "outputs": [],
   "source": [
    "def todo(url_query, coordenadas, query):\n",
    "    '''\n",
    "    Esta función resume la función de la llamada a la API y la limpieza del json, llama a las dos.\n",
    "    Recibe: la url de la API, las coordenadas de la localización a estudiar y la query que queremos que nos devuelva la API\n",
    "    Devuelve: el json limpio con la información justa que queremos.\n",
    "    '''\n",
    "    api = getAPI(url_query, coordenadas, query)\n",
    "    return limpiezaresp(api)"
   ]
  },
  {
   "cell_type": "code",
   "execution_count": 90,
   "id": "2bebab45",
   "metadata": {},
   "outputs": [],
   "source": [
    "lista = ['Vegan', 'Start Up', 'Veterinary', 'Bar', 'Starbucks']"
   ]
  },
  {
   "cell_type": "code",
   "execution_count": 87,
   "id": "417b3100",
   "metadata": {
    "scrolled": false
   },
   "outputs": [
    {
     "data": {
      "text/html": [
       "<div>\n",
       "<style scoped>\n",
       "    .dataframe tbody tr th:only-of-type {\n",
       "        vertical-align: middle;\n",
       "    }\n",
       "\n",
       "    .dataframe tbody tr th {\n",
       "        vertical-align: top;\n",
       "    }\n",
       "\n",
       "    .dataframe thead th {\n",
       "        text-align: right;\n",
       "    }\n",
       "</style>\n",
       "<table border=\"1\" class=\"dataframe\">\n",
       "  <thead>\n",
       "    <tr style=\"text-align: right;\">\n",
       "      <th></th>\n",
       "      <th>nombre</th>\n",
       "      <th>latitud</th>\n",
       "      <th>longitud</th>\n",
       "      <th>ciudad</th>\n",
       "      <th>distancia</th>\n",
       "      <th>tipo</th>\n",
       "    </tr>\n",
       "  </thead>\n",
       "  <tbody>\n",
       "    <tr>\n",
       "      <th>0</th>\n",
       "      <td>Omv! Vegan Burgers &amp; More</td>\n",
       "      <td>40.757819</td>\n",
       "      <td>-73.985537</td>\n",
       "      <td>New York</td>\n",
       "      <td>392</td>\n",
       "      <td>Vegetarian / Vegan Restaurant</td>\n",
       "    </tr>\n",
       "    <tr>\n",
       "      <th>1</th>\n",
       "      <td>Marty's Vegan Fast Foods</td>\n",
       "      <td>40.750163</td>\n",
       "      <td>-73.988871</td>\n",
       "      <td>New York</td>\n",
       "      <td>736</td>\n",
       "      <td>Food Truck</td>\n",
       "    </tr>\n",
       "    <tr>\n",
       "      <th>2</th>\n",
       "      <td>MTHR Vegan</td>\n",
       "      <td>40.762373</td>\n",
       "      <td>-73.987867</td>\n",
       "      <td>New York</td>\n",
       "      <td>652</td>\n",
       "      <td>Vegetarian / Vegan Restaurant</td>\n",
       "    </tr>\n",
       "    <tr>\n",
       "      <th>3</th>\n",
       "      <td>Happy Zoe Vegan Bakery</td>\n",
       "      <td>40.719246</td>\n",
       "      <td>-73.944252</td>\n",
       "      <td>New York</td>\n",
       "      <td>5681</td>\n",
       "      <td>Bakery</td>\n",
       "    </tr>\n",
       "    <tr>\n",
       "      <th>4</th>\n",
       "      <td>Maoz Vegan</td>\n",
       "      <td>40.751706</td>\n",
       "      <td>-73.974375</td>\n",
       "      <td>New York</td>\n",
       "      <td>1428</td>\n",
       "      <td>Vegetarian / Vegan Restaurant</td>\n",
       "    </tr>\n",
       "  </tbody>\n",
       "</table>\n",
       "</div>"
      ],
      "text/plain": [
       "                      nombre    latitud   longitud    ciudad  distancia  \\\n",
       "0  Omv! Vegan Burgers & More  40.757819 -73.985537  New York        392   \n",
       "1   Marty's Vegan Fast Foods  40.750163 -73.988871  New York        736   \n",
       "2                 MTHR Vegan  40.762373 -73.987867  New York        652   \n",
       "3     Happy Zoe Vegan Bakery  40.719246 -73.944252  New York       5681   \n",
       "4                 Maoz Vegan  40.751706 -73.974375  New York       1428   \n",
       "\n",
       "                            tipo  \n",
       "0  Vegetarian / Vegan Restaurant  \n",
       "1                     Food Truck  \n",
       "2  Vegetarian / Vegan Restaurant  \n",
       "3                         Bakery  \n",
       "4  Vegetarian / Vegan Restaurant  "
      ]
     },
     "execution_count": 87,
     "metadata": {},
     "output_type": "execute_result"
    }
   ],
   "source": [
    "df_full_ny = []\n",
    "for i in lista:\n",
    "    df_ny = todo('https://api.foursquare.com/v2/venues/search','40.75673, -73.98996', i)\n",
    "    df_full_ny.append(df_ny)\n",
    "df_NewYork = pd.concat(df_full_ny)\n",
    "df_NewYork.head()"
   ]
  },
  {
   "cell_type": "code",
   "execution_count": 14,
   "id": "923817ce",
   "metadata": {},
   "outputs": [],
   "source": [
    "#Vamos a hacer lo mismo para Madrid "
   ]
  },
  {
   "cell_type": "code",
   "execution_count": 75,
   "id": "be8bafad",
   "metadata": {},
   "outputs": [
    {
     "data": {
      "text/html": [
       "<div>\n",
       "<style scoped>\n",
       "    .dataframe tbody tr th:only-of-type {\n",
       "        vertical-align: middle;\n",
       "    }\n",
       "\n",
       "    .dataframe tbody tr th {\n",
       "        vertical-align: top;\n",
       "    }\n",
       "\n",
       "    .dataframe thead th {\n",
       "        text-align: right;\n",
       "    }\n",
       "</style>\n",
       "<table border=\"1\" class=\"dataframe\">\n",
       "  <thead>\n",
       "    <tr style=\"text-align: right;\">\n",
       "      <th></th>\n",
       "      <th>nombre</th>\n",
       "      <th>latitud</th>\n",
       "      <th>longitud</th>\n",
       "      <th>ciudad</th>\n",
       "      <th>distancia</th>\n",
       "      <th>tipo</th>\n",
       "    </tr>\n",
       "  </thead>\n",
       "  <tbody>\n",
       "    <tr>\n",
       "      <th>0</th>\n",
       "      <td>Vegan Streets Madrid Castellana</td>\n",
       "      <td>40.442456</td>\n",
       "      <td>-3.679973</td>\n",
       "      <td>Madrid</td>\n",
       "      <td>6696</td>\n",
       "      <td>Vegetarian / Vegan Restaurant</td>\n",
       "    </tr>\n",
       "    <tr>\n",
       "      <th>1</th>\n",
       "      <td>Vegan Streets Madrid Centro</td>\n",
       "      <td>40.417512</td>\n",
       "      <td>-3.697636</td>\n",
       "      <td>Madrid</td>\n",
       "      <td>9696</td>\n",
       "      <td>Vegetarian / Vegan Restaurant</td>\n",
       "    </tr>\n",
       "    <tr>\n",
       "      <th>2</th>\n",
       "      <td>Vegan bistro</td>\n",
       "      <td>40.419410</td>\n",
       "      <td>-3.679066</td>\n",
       "      <td>Madrid</td>\n",
       "      <td>9243</td>\n",
       "      <td>Burger Joint</td>\n",
       "    </tr>\n",
       "    <tr>\n",
       "      <th>3</th>\n",
       "      <td>vegetarian / vegan restaurant</td>\n",
       "      <td>40.432974</td>\n",
       "      <td>-3.686693</td>\n",
       "      <td>Madrid</td>\n",
       "      <td>7822</td>\n",
       "      <td>Vegetarian / Vegan Restaurant</td>\n",
       "    </tr>\n",
       "    <tr>\n",
       "      <th>4</th>\n",
       "      <td>THUNDER VEGAN FOOD</td>\n",
       "      <td>40.424450</td>\n",
       "      <td>-3.702513</td>\n",
       "      <td>Madrid</td>\n",
       "      <td>9060</td>\n",
       "      <td>Vegetarian / Vegan Restaurant</td>\n",
       "    </tr>\n",
       "  </tbody>\n",
       "</table>\n",
       "</div>"
      ],
      "text/plain": [
       "                            nombre    latitud  longitud  ciudad  distancia  \\\n",
       "0  Vegan Streets Madrid Castellana  40.442456 -3.679973  Madrid       6696   \n",
       "1      Vegan Streets Madrid Centro  40.417512 -3.697636  Madrid       9696   \n",
       "2                     Vegan bistro  40.419410 -3.679066  Madrid       9243   \n",
       "3    vegetarian / vegan restaurant  40.432974 -3.686693  Madrid       7822   \n",
       "4               THUNDER VEGAN FOOD  40.424450 -3.702513  Madrid       9060   \n",
       "\n",
       "                            tipo  \n",
       "0  Vegetarian / Vegan Restaurant  \n",
       "1  Vegetarian / Vegan Restaurant  \n",
       "2                   Burger Joint  \n",
       "3  Vegetarian / Vegan Restaurant  \n",
       "4  Vegetarian / Vegan Restaurant  "
      ]
     },
     "execution_count": 75,
     "metadata": {},
     "output_type": "execute_result"
    }
   ],
   "source": [
    "df_full_mad = []\n",
    "for i in lista:\n",
    "    df_mad = todo('https://api.foursquare.com/v2/venues/search','40.50222, -3.67097', i)\n",
    "    df_full_mad.append(df_mad)\n",
    "df_Mad = pd.concat(df_full_mad)\n",
    "df_Mad.head()"
   ]
  },
  {
   "cell_type": "code",
   "execution_count": 16,
   "id": "cb49cbc9",
   "metadata": {},
   "outputs": [],
   "source": [
    "#Ahora lo mismo para Barcelona"
   ]
  },
  {
   "cell_type": "code",
   "execution_count": 76,
   "id": "7cef615f",
   "metadata": {},
   "outputs": [
    {
     "data": {
      "text/html": [
       "<div>\n",
       "<style scoped>\n",
       "    .dataframe tbody tr th:only-of-type {\n",
       "        vertical-align: middle;\n",
       "    }\n",
       "\n",
       "    .dataframe tbody tr th {\n",
       "        vertical-align: top;\n",
       "    }\n",
       "\n",
       "    .dataframe thead th {\n",
       "        text-align: right;\n",
       "    }\n",
       "</style>\n",
       "<table border=\"1\" class=\"dataframe\">\n",
       "  <thead>\n",
       "    <tr style=\"text-align: right;\">\n",
       "      <th></th>\n",
       "      <th>nombre</th>\n",
       "      <th>latitud</th>\n",
       "      <th>longitud</th>\n",
       "      <th>ciudad</th>\n",
       "      <th>distancia</th>\n",
       "      <th>tipo</th>\n",
       "    </tr>\n",
       "  </thead>\n",
       "  <tbody>\n",
       "    <tr>\n",
       "      <th>0</th>\n",
       "      <td>Vegan Streets Barcelona Glories</td>\n",
       "      <td>41.410040</td>\n",
       "      <td>2.193974</td>\n",
       "      <td>Barcelona</td>\n",
       "      <td>1072.0</td>\n",
       "      <td>Vegetarian / Vegan Restaurant</td>\n",
       "    </tr>\n",
       "    <tr>\n",
       "      <th>1</th>\n",
       "      <td>Vegan Junk Food Bar</td>\n",
       "      <td>41.383386</td>\n",
       "      <td>2.180255</td>\n",
       "      <td>Barcelona</td>\n",
       "      <td>2421.0</td>\n",
       "      <td>Vegetarian / Vegan Restaurant</td>\n",
       "    </tr>\n",
       "    <tr>\n",
       "      <th>2</th>\n",
       "      <td>Monchito Vegan</td>\n",
       "      <td>41.380971</td>\n",
       "      <td>2.179880</td>\n",
       "      <td>Barcelona</td>\n",
       "      <td>2658.0</td>\n",
       "      <td>Vegetarian / Vegan Restaurant</td>\n",
       "    </tr>\n",
       "    <tr>\n",
       "      <th>3</th>\n",
       "      <td>ENJOY VEGAN</td>\n",
       "      <td>41.388152</td>\n",
       "      <td>2.180673</td>\n",
       "      <td>Barcelona</td>\n",
       "      <td>1996.0</td>\n",
       "      <td>Vegetarian / Vegan Restaurant</td>\n",
       "    </tr>\n",
       "    <tr>\n",
       "      <th>4</th>\n",
       "      <td>Good Shit, Vegan Kebabs</td>\n",
       "      <td>41.402854</td>\n",
       "      <td>2.156511</td>\n",
       "      <td>Barcelona</td>\n",
       "      <td>3441.0</td>\n",
       "      <td>Shoe Store</td>\n",
       "    </tr>\n",
       "  </tbody>\n",
       "</table>\n",
       "</div>"
      ],
      "text/plain": [
       "                            nombre    latitud  longitud     ciudad  distancia  \\\n",
       "0  Vegan Streets Barcelona Glories  41.410040  2.193974  Barcelona     1072.0   \n",
       "1              Vegan Junk Food Bar  41.383386  2.180255  Barcelona     2421.0   \n",
       "2                   Monchito Vegan  41.380971  2.179880  Barcelona     2658.0   \n",
       "3                      ENJOY VEGAN  41.388152  2.180673  Barcelona     1996.0   \n",
       "4          Good Shit, Vegan Kebabs  41.402854  2.156511  Barcelona     3441.0   \n",
       "\n",
       "                            tipo  \n",
       "0  Vegetarian / Vegan Restaurant  \n",
       "1  Vegetarian / Vegan Restaurant  \n",
       "2  Vegetarian / Vegan Restaurant  \n",
       "3  Vegetarian / Vegan Restaurant  \n",
       "4                     Shoe Store  "
      ]
     },
     "execution_count": 76,
     "metadata": {},
     "output_type": "execute_result"
    }
   ],
   "source": [
    "df_full_bcn = []\n",
    "for i in lista:\n",
    "    df_bcn = todo('https://api.foursquare.com/v2/venues/search','41.40080, 2.19763', i)\n",
    "    df_full_bcn.append(df_bcn)\n",
    "df_Bcn = pd.concat(df_full_bcn)\n",
    "df_Bcn.head()"
   ]
  },
  {
   "cell_type": "markdown",
   "id": "bdecccad",
   "metadata": {},
   "source": [
    "Ya tenemos los tres dataframes que queremos.\n",
    "Cada uno nos muestra todas nuestras 3 variables que tenemos en cuenta en esa ciudad, es decir, df_NewYork, me muestra todos los Veganos, todos los Starbucks, todos los Veterinarios, todos los Bares y todas las Start Ups."
   ]
  },
  {
   "cell_type": "markdown",
   "id": "901cfd40",
   "metadata": {},
   "source": [
    "DataFrames chulos:\n",
    "- df_NewYork\n",
    "- df_Mad\n",
    "- df_Bcn\n",
    "\n",
    "Ahora lo que tenemos que hacer es convertirlos en geodataframes y meterles una nueva columna que sean las coordenadas en tipo point para poder hacer las geoqueries de la manera correspondiente"
   ]
  },
  {
   "cell_type": "code",
   "execution_count": 18,
   "id": "a8f9f94d",
   "metadata": {},
   "outputs": [
    {
     "data": {
      "text/plain": [
       "\"\\ndef export_to_Json (name, df):\\n    with open(f'{name}', 'w') as f:\\n        json.dump(df, f)\\n\""
      ]
     },
     "execution_count": 18,
     "metadata": {},
     "output_type": "execute_result"
    }
   ],
   "source": [
    "# mira que guapa\n",
    "# pero no la puedo usar, porque lo que viene despues, que son cosas de terminal que solo funcionan con mac...\n",
    "'''\n",
    "def export_to_Json (name, df):\n",
    "    with open(f'{name}', 'w') as f:\n",
    "        json.dump(df, f)\n",
    "'''"
   ]
  },
  {
   "cell_type": "markdown",
   "id": "dcc0a5dd",
   "metadata": {},
   "source": [
    "Nos exportamos estos 3 dataframes maravillosos en formato .csv para cargarlos en Mongo"
   ]
  },
  {
   "cell_type": "code",
   "execution_count": 91,
   "id": "36213cdd",
   "metadata": {},
   "outputs": [],
   "source": [
    "df_NewYork.to_csv('newyork_data.csv')\n",
    "df_Mad.to_csv('mad_data.csv')\n",
    "df_Bcn.to_csv('bcn_data.csv')"
   ]
  }
 ],
 "metadata": {
  "kernelspec": {
   "display_name": "Python 3",
   "language": "python",
   "name": "python3"
  },
  "language_info": {
   "codemirror_mode": {
    "name": "ipython",
    "version": 3
   },
   "file_extension": ".py",
   "mimetype": "text/x-python",
   "name": "python",
   "nbconvert_exporter": "python",
   "pygments_lexer": "ipython3",
   "version": "3.8.8"
  }
 },
 "nbformat": 4,
 "nbformat_minor": 5
}
