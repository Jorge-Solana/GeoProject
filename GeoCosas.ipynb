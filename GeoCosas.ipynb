{
 "cells": [
  {
   "cell_type": "code",
   "execution_count": 1,
   "id": "c98af589",
   "metadata": {},
   "outputs": [],
   "source": [
    "import requests\n",
    "import json\n",
    "from dotenv import load_dotenv\n",
    "import os\n",
    "import pandas as pd\n",
    "from pymongo import MongoClient\n",
    "from pandas import json_normalize\n",
    "from pymongo import MongoClient,GEOSPHERE\n",
    "import shapely.geometry\n",
    "import geopandas"
   ]
  },
  {
   "cell_type": "markdown",
   "id": "a5031f4f",
   "metadata": {},
   "source": [
    "Ya tenemos lo que queremos priorizar, lo cual es, en orden de mas prioritario a menos\n",
    "- Big starup\n",
    "- Vegan\n",
    "- Starbucks\n",
    "- Vet\n",
    "- Bar"
   ]
  },
  {
   "cell_type": "code",
   "execution_count": 2,
   "id": "ab9c4521",
   "metadata": {},
   "outputs": [
    {
     "data": {
      "text/plain": [
       "True"
      ]
     },
     "execution_count": 2,
     "metadata": {},
     "output_type": "execute_result"
    }
   ],
   "source": [
    "load_dotenv()"
   ]
  },
  {
   "cell_type": "code",
   "execution_count": 3,
   "id": "77e0314c",
   "metadata": {},
   "outputs": [],
   "source": [
    "client_id = os.getenv('Client_Id')\n",
    "client_secret = os.getenv('Client_Secret')"
   ]
  },
  {
   "cell_type": "code",
   "execution_count": 4,
   "id": "7f5561cc",
   "metadata": {},
   "outputs": [],
   "source": [
    "url_query = 'https://api.foursquare.com/v2/venues/search'"
   ]
  },
  {
   "cell_type": "code",
   "execution_count": 5,
   "id": "90ea78d3",
   "metadata": {},
   "outputs": [],
   "source": [
    "def getFromDict(diccionario, mapa):\n",
    "    from functools import reduce\n",
    "    import operator\n",
    "    return reduce(operator.getitem,mapa,diccionario)"
   ]
  },
  {
   "cell_type": "code",
   "execution_count": 6,
   "id": "508ea0c4",
   "metadata": {},
   "outputs": [],
   "source": [
    "def getAPI(url_query, coordenadas, query): #coordenadas en string, latitud y longitud (en ese orden)\n",
    "    parametros = {\n",
    "    \"client_id\": client_id,\n",
    "    \"client_secret\": client_secret,\n",
    "    \"v\": \"20180323\",\n",
    "    \"ll\": f'{coordenadas}',\n",
    "    \"query\": f\"{query}\",\n",
    "    \"limit\": 200   \n",
    "}\n",
    "    resp = requests.get(url_query, params=parametros).json()['response']['venues']\n",
    "    \n",
    "    return resp"
   ]
  },
  {
   "cell_type": "code",
   "execution_count": 7,
   "id": "1b3cb3eb",
   "metadata": {},
   "outputs": [],
   "source": [
    "def limpiezaresp(json):\n",
    "    \n",
    "    mapa_nombre = ['name']\n",
    "    mapa_latitud = ['location','lat']\n",
    "    mapa_longitud = ['location', 'lng']\n",
    "    mapa_ciudad = ['location','city']\n",
    "    mapa_distancia = ['location','distance']\n",
    "    \n",
    "    jason = []\n",
    "    \n",
    "    for dic in json:\n",
    "        try:\n",
    "            diccio= {}\n",
    "            diccio['nombre']= getFromDict(dic,mapa_nombre)\n",
    "            diccio['latitud']= getFromDict(dic,mapa_latitud)\n",
    "            diccio['longitud']= getFromDict(dic,mapa_longitud)\n",
    "            diccio['ciudad']= getFromDict(dic,mapa_ciudad)\n",
    "            diccio['distancia'] = getFromDict(dic,mapa_distancia)\n",
    "            jason.append(diccio)\n",
    "        except:\n",
    "            pass\n",
    "    return pd.DataFrame(jason)"
   ]
  },
  {
   "cell_type": "code",
   "execution_count": 8,
   "id": "5bcd0f2a",
   "metadata": {},
   "outputs": [],
   "source": [
    "def todo(url_query, coordenadas, query):\n",
    "    api = getAPI(url_query, coordenadas, query)\n",
    "    return limpiezaresp(api)"
   ]
  },
  {
   "cell_type": "code",
   "execution_count": 9,
   "id": "d5393904",
   "metadata": {},
   "outputs": [],
   "source": [
    "df_vegans_ny = todo('https://api.foursquare.com/v2/venues/search','40.75673, -73.98996', 'Vegan')"
   ]
  },
  {
   "cell_type": "code",
   "execution_count": 10,
   "id": "e6fc725d",
   "metadata": {},
   "outputs": [
    {
     "data": {
      "text/html": [
       "<div>\n",
       "<style scoped>\n",
       "    .dataframe tbody tr th:only-of-type {\n",
       "        vertical-align: middle;\n",
       "    }\n",
       "\n",
       "    .dataframe tbody tr th {\n",
       "        vertical-align: top;\n",
       "    }\n",
       "\n",
       "    .dataframe thead th {\n",
       "        text-align: right;\n",
       "    }\n",
       "</style>\n",
       "<table border=\"1\" class=\"dataframe\">\n",
       "  <thead>\n",
       "    <tr style=\"text-align: right;\">\n",
       "      <th></th>\n",
       "      <th>nombre</th>\n",
       "      <th>latitud</th>\n",
       "      <th>longitud</th>\n",
       "      <th>ciudad</th>\n",
       "      <th>distancia</th>\n",
       "    </tr>\n",
       "  </thead>\n",
       "  <tbody>\n",
       "    <tr>\n",
       "      <th>0</th>\n",
       "      <td>Omv! Vegan Burgers &amp; More</td>\n",
       "      <td>40.757819</td>\n",
       "      <td>-73.985537</td>\n",
       "      <td>New York</td>\n",
       "      <td>392</td>\n",
       "    </tr>\n",
       "    <tr>\n",
       "      <th>1</th>\n",
       "      <td>Marty's Vegan Fast Foods</td>\n",
       "      <td>40.750163</td>\n",
       "      <td>-73.988871</td>\n",
       "      <td>New York</td>\n",
       "      <td>736</td>\n",
       "    </tr>\n",
       "    <tr>\n",
       "      <th>2</th>\n",
       "      <td>MTHR Vegan</td>\n",
       "      <td>40.762373</td>\n",
       "      <td>-73.987867</td>\n",
       "      <td>New York</td>\n",
       "      <td>652</td>\n",
       "    </tr>\n",
       "    <tr>\n",
       "      <th>3</th>\n",
       "      <td>Happy Zoe Vegan Bakery</td>\n",
       "      <td>40.719246</td>\n",
       "      <td>-73.944252</td>\n",
       "      <td>New York</td>\n",
       "      <td>5681</td>\n",
       "    </tr>\n",
       "    <tr>\n",
       "      <th>4</th>\n",
       "      <td>Maoz Vegan</td>\n",
       "      <td>40.751706</td>\n",
       "      <td>-73.974375</td>\n",
       "      <td>New York</td>\n",
       "      <td>1428</td>\n",
       "    </tr>\n",
       "  </tbody>\n",
       "</table>\n",
       "</div>"
      ],
      "text/plain": [
       "                      nombre    latitud   longitud    ciudad  distancia\n",
       "0  Omv! Vegan Burgers & More  40.757819 -73.985537  New York        392\n",
       "1   Marty's Vegan Fast Foods  40.750163 -73.988871  New York        736\n",
       "2                 MTHR Vegan  40.762373 -73.987867  New York        652\n",
       "3     Happy Zoe Vegan Bakery  40.719246 -73.944252  New York       5681\n",
       "4                 Maoz Vegan  40.751706 -73.974375  New York       1428"
      ]
     },
     "execution_count": 10,
     "metadata": {},
     "output_type": "execute_result"
    }
   ],
   "source": [
    "df_vegans_ny.head()"
   ]
  },
  {
   "cell_type": "code",
   "execution_count": 11,
   "id": "2bebab45",
   "metadata": {},
   "outputs": [],
   "source": [
    "lista = ['Vegan', 'Start Up', 'Veterinary', 'Bar', 'Starbucks']"
   ]
  },
  {
   "cell_type": "code",
   "execution_count": 12,
   "id": "6234c39f",
   "metadata": {},
   "outputs": [],
   "source": [
    "for i in lista:\n",
    "    df_ny = todo('https://api.foursquare.com/v2/venues/search','40.75673, -73.98996', i)"
   ]
  },
  {
   "cell_type": "code",
   "execution_count": 13,
   "id": "417b3100",
   "metadata": {},
   "outputs": [
    {
     "data": {
      "text/plain": [
       "249"
      ]
     },
     "execution_count": 13,
     "metadata": {},
     "output_type": "execute_result"
    }
   ],
   "source": [
    "df_full_ny = []\n",
    "for i in lista:\n",
    "    df_ny = todo('https://api.foursquare.com/v2/venues/search','40.75673, -73.98996', i)\n",
    "    df_full_ny.append(df_ny)\n",
    "df_NewYork = pd.concat(df_full_ny)\n",
    "len(df_NewYork)"
   ]
  },
  {
   "cell_type": "code",
   "execution_count": 14,
   "id": "d9ab6d64",
   "metadata": {},
   "outputs": [
    {
     "data": {
      "text/html": [
       "<div>\n",
       "<style scoped>\n",
       "    .dataframe tbody tr th:only-of-type {\n",
       "        vertical-align: middle;\n",
       "    }\n",
       "\n",
       "    .dataframe tbody tr th {\n",
       "        vertical-align: top;\n",
       "    }\n",
       "\n",
       "    .dataframe thead th {\n",
       "        text-align: right;\n",
       "    }\n",
       "</style>\n",
       "<table border=\"1\" class=\"dataframe\">\n",
       "  <thead>\n",
       "    <tr style=\"text-align: right;\">\n",
       "      <th></th>\n",
       "      <th>nombre</th>\n",
       "      <th>latitud</th>\n",
       "      <th>longitud</th>\n",
       "      <th>ciudad</th>\n",
       "      <th>distancia</th>\n",
       "    </tr>\n",
       "  </thead>\n",
       "  <tbody>\n",
       "    <tr>\n",
       "      <th>0</th>\n",
       "      <td>Omv! Vegan Burgers &amp; More</td>\n",
       "      <td>40.757819</td>\n",
       "      <td>-73.985537</td>\n",
       "      <td>New York</td>\n",
       "      <td>392</td>\n",
       "    </tr>\n",
       "    <tr>\n",
       "      <th>1</th>\n",
       "      <td>Marty's Vegan Fast Foods</td>\n",
       "      <td>40.750163</td>\n",
       "      <td>-73.988871</td>\n",
       "      <td>New York</td>\n",
       "      <td>736</td>\n",
       "    </tr>\n",
       "    <tr>\n",
       "      <th>2</th>\n",
       "      <td>MTHR Vegan</td>\n",
       "      <td>40.762373</td>\n",
       "      <td>-73.987867</td>\n",
       "      <td>New York</td>\n",
       "      <td>652</td>\n",
       "    </tr>\n",
       "    <tr>\n",
       "      <th>3</th>\n",
       "      <td>Happy Zoe Vegan Bakery</td>\n",
       "      <td>40.719246</td>\n",
       "      <td>-73.944252</td>\n",
       "      <td>New York</td>\n",
       "      <td>5681</td>\n",
       "    </tr>\n",
       "    <tr>\n",
       "      <th>4</th>\n",
       "      <td>Maoz Vegan</td>\n",
       "      <td>40.751706</td>\n",
       "      <td>-73.974375</td>\n",
       "      <td>New York</td>\n",
       "      <td>1428</td>\n",
       "    </tr>\n",
       "  </tbody>\n",
       "</table>\n",
       "</div>"
      ],
      "text/plain": [
       "                      nombre    latitud   longitud    ciudad  distancia\n",
       "0  Omv! Vegan Burgers & More  40.757819 -73.985537  New York        392\n",
       "1   Marty's Vegan Fast Foods  40.750163 -73.988871  New York        736\n",
       "2                 MTHR Vegan  40.762373 -73.987867  New York        652\n",
       "3     Happy Zoe Vegan Bakery  40.719246 -73.944252  New York       5681\n",
       "4                 Maoz Vegan  40.751706 -73.974375  New York       1428"
      ]
     },
     "execution_count": 14,
     "metadata": {},
     "output_type": "execute_result"
    }
   ],
   "source": [
    "df_NewYork.head() # aqui tengo tooodo lo de Nueva York (Veganos, StartUps, Starbucks, Vets y Bares)"
   ]
  },
  {
   "cell_type": "code",
   "execution_count": 15,
   "id": "923817ce",
   "metadata": {},
   "outputs": [],
   "source": [
    "#Vamos a hacer lo mismo para Madrid "
   ]
  },
  {
   "cell_type": "code",
   "execution_count": 16,
   "id": "be8bafad",
   "metadata": {},
   "outputs": [
    {
     "data": {
      "text/html": [
       "<div>\n",
       "<style scoped>\n",
       "    .dataframe tbody tr th:only-of-type {\n",
       "        vertical-align: middle;\n",
       "    }\n",
       "\n",
       "    .dataframe tbody tr th {\n",
       "        vertical-align: top;\n",
       "    }\n",
       "\n",
       "    .dataframe thead th {\n",
       "        text-align: right;\n",
       "    }\n",
       "</style>\n",
       "<table border=\"1\" class=\"dataframe\">\n",
       "  <thead>\n",
       "    <tr style=\"text-align: right;\">\n",
       "      <th></th>\n",
       "      <th>nombre</th>\n",
       "      <th>latitud</th>\n",
       "      <th>longitud</th>\n",
       "      <th>ciudad</th>\n",
       "      <th>distancia</th>\n",
       "    </tr>\n",
       "  </thead>\n",
       "  <tbody>\n",
       "    <tr>\n",
       "      <th>0</th>\n",
       "      <td>Vegan Streets Madrid Castellana</td>\n",
       "      <td>40.442456</td>\n",
       "      <td>-3.679973</td>\n",
       "      <td>Madrid</td>\n",
       "      <td>6696</td>\n",
       "    </tr>\n",
       "    <tr>\n",
       "      <th>1</th>\n",
       "      <td>Vegan Streets Madrid Centro</td>\n",
       "      <td>40.417512</td>\n",
       "      <td>-3.697636</td>\n",
       "      <td>Madrid</td>\n",
       "      <td>9696</td>\n",
       "    </tr>\n",
       "    <tr>\n",
       "      <th>2</th>\n",
       "      <td>Vegan bistro</td>\n",
       "      <td>40.419410</td>\n",
       "      <td>-3.679066</td>\n",
       "      <td>Madrid</td>\n",
       "      <td>9243</td>\n",
       "    </tr>\n",
       "    <tr>\n",
       "      <th>3</th>\n",
       "      <td>THUNDER VEGAN FOOD</td>\n",
       "      <td>40.424450</td>\n",
       "      <td>-3.702513</td>\n",
       "      <td>Madrid</td>\n",
       "      <td>9060</td>\n",
       "    </tr>\n",
       "    <tr>\n",
       "      <th>4</th>\n",
       "      <td>vegetarian / vegan restaurant</td>\n",
       "      <td>40.432974</td>\n",
       "      <td>-3.686693</td>\n",
       "      <td>Madrid</td>\n",
       "      <td>7822</td>\n",
       "    </tr>\n",
       "  </tbody>\n",
       "</table>\n",
       "</div>"
      ],
      "text/plain": [
       "                            nombre    latitud  longitud  ciudad  distancia\n",
       "0  Vegan Streets Madrid Castellana  40.442456 -3.679973  Madrid       6696\n",
       "1      Vegan Streets Madrid Centro  40.417512 -3.697636  Madrid       9696\n",
       "2                     Vegan bistro  40.419410 -3.679066  Madrid       9243\n",
       "3               THUNDER VEGAN FOOD  40.424450 -3.702513  Madrid       9060\n",
       "4    vegetarian / vegan restaurant  40.432974 -3.686693  Madrid       7822"
      ]
     },
     "execution_count": 16,
     "metadata": {},
     "output_type": "execute_result"
    }
   ],
   "source": [
    "df_full_mad = []\n",
    "for i in lista:\n",
    "    df_mad = todo('https://api.foursquare.com/v2/venues/search','40.50222, -3.67097', i)\n",
    "    df_full_mad.append(df_mad)\n",
    "df_Mad = pd.concat(df_full_mad)\n",
    "df_Mad.head()"
   ]
  },
  {
   "cell_type": "code",
   "execution_count": 17,
   "id": "cb49cbc9",
   "metadata": {},
   "outputs": [],
   "source": [
    "#Ahora lo mismo para Barcelona"
   ]
  },
  {
   "cell_type": "code",
   "execution_count": 18,
   "id": "7cef615f",
   "metadata": {},
   "outputs": [
    {
     "data": {
      "text/html": [
       "<div>\n",
       "<style scoped>\n",
       "    .dataframe tbody tr th:only-of-type {\n",
       "        vertical-align: middle;\n",
       "    }\n",
       "\n",
       "    .dataframe tbody tr th {\n",
       "        vertical-align: top;\n",
       "    }\n",
       "\n",
       "    .dataframe thead th {\n",
       "        text-align: right;\n",
       "    }\n",
       "</style>\n",
       "<table border=\"1\" class=\"dataframe\">\n",
       "  <thead>\n",
       "    <tr style=\"text-align: right;\">\n",
       "      <th></th>\n",
       "      <th>nombre</th>\n",
       "      <th>latitud</th>\n",
       "      <th>longitud</th>\n",
       "      <th>ciudad</th>\n",
       "      <th>distancia</th>\n",
       "    </tr>\n",
       "  </thead>\n",
       "  <tbody>\n",
       "    <tr>\n",
       "      <th>0</th>\n",
       "      <td>Vegan Streets Barcelona Glories</td>\n",
       "      <td>41.410040</td>\n",
       "      <td>2.193974</td>\n",
       "      <td>Barcelona</td>\n",
       "      <td>1072</td>\n",
       "    </tr>\n",
       "    <tr>\n",
       "      <th>1</th>\n",
       "      <td>Vegan Junk Food Bar</td>\n",
       "      <td>41.383386</td>\n",
       "      <td>2.180255</td>\n",
       "      <td>Barcelona</td>\n",
       "      <td>2421</td>\n",
       "    </tr>\n",
       "    <tr>\n",
       "      <th>2</th>\n",
       "      <td>Monchito Vegan</td>\n",
       "      <td>41.380971</td>\n",
       "      <td>2.179880</td>\n",
       "      <td>Barcelona</td>\n",
       "      <td>2658</td>\n",
       "    </tr>\n",
       "    <tr>\n",
       "      <th>3</th>\n",
       "      <td>ENJOY VEGAN</td>\n",
       "      <td>41.388152</td>\n",
       "      <td>2.180673</td>\n",
       "      <td>Barcelona</td>\n",
       "      <td>1996</td>\n",
       "    </tr>\n",
       "    <tr>\n",
       "      <th>4</th>\n",
       "      <td>Good Shit, Vegan Kebabs</td>\n",
       "      <td>41.402854</td>\n",
       "      <td>2.156511</td>\n",
       "      <td>Barcelona</td>\n",
       "      <td>3441</td>\n",
       "    </tr>\n",
       "  </tbody>\n",
       "</table>\n",
       "</div>"
      ],
      "text/plain": [
       "                            nombre    latitud  longitud     ciudad  distancia\n",
       "0  Vegan Streets Barcelona Glories  41.410040  2.193974  Barcelona       1072\n",
       "1              Vegan Junk Food Bar  41.383386  2.180255  Barcelona       2421\n",
       "2                   Monchito Vegan  41.380971  2.179880  Barcelona       2658\n",
       "3                      ENJOY VEGAN  41.388152  2.180673  Barcelona       1996\n",
       "4          Good Shit, Vegan Kebabs  41.402854  2.156511  Barcelona       3441"
      ]
     },
     "execution_count": 18,
     "metadata": {},
     "output_type": "execute_result"
    }
   ],
   "source": [
    "df_full_bcn = []\n",
    "for i in lista:\n",
    "    df_bcn = todo('https://api.foursquare.com/v2/venues/search','41.40080, 2.19763', i)\n",
    "    df_full_bcn.append(df_bcn)\n",
    "df_Bcn = pd.concat(df_full_bcn)\n",
    "df_Bcn.head()"
   ]
  },
  {
   "cell_type": "markdown",
   "id": "bdecccad",
   "metadata": {},
   "source": [
    "Ya tenemos los tres dataframes que queremos.\n",
    "Cada uno nos muestra todas nuestras 3 variables que tenemos en cuenta en esa ciudad, es decir, df_NewYork, me muestra todos los Veganos, todos los Starbucks, todos los Veterinarios, todos los Bares y todas las Start Ups."
   ]
  },
  {
   "cell_type": "markdown",
   "id": "901cfd40",
   "metadata": {},
   "source": [
    "DataFrames chulos:\n",
    "- df_NewYork\n",
    "- df_Mad\n",
    "- df_Bcn\n",
    "\n",
    "Ahora lo que tenemos que hacer es convertirlos en geodataframes y meterles una nueva columna que sean las coordenadas en tipo point para poder hacer las geoqueries de la manera correspondiente"
   ]
  },
  {
   "cell_type": "code",
   "execution_count": 19,
   "id": "a8f9f94d",
   "metadata": {},
   "outputs": [
    {
     "data": {
      "text/plain": [
       "\"\\ndef export_to_Json (name, df):\\n    with open(f'{name}', 'w') as f:\\n        json.dump(df, f)\\n\""
      ]
     },
     "execution_count": 19,
     "metadata": {},
     "output_type": "execute_result"
    }
   ],
   "source": [
    "# mira que guapa\n",
    "# pero no la puedo usar, porque lo que viene despues, que son cosas de terminal que solo funcionan con mac...\n",
    "'''\n",
    "def export_to_Json (name, df):\n",
    "    with open(f'{name}', 'w') as f:\n",
    "        json.dump(df, f)\n",
    "'''"
   ]
  },
  {
   "cell_type": "code",
   "execution_count": 20,
   "id": "bf1bf9c7",
   "metadata": {},
   "outputs": [
    {
     "data": {
      "text/html": [
       "<div>\n",
       "<style scoped>\n",
       "    .dataframe tbody tr th:only-of-type {\n",
       "        vertical-align: middle;\n",
       "    }\n",
       "\n",
       "    .dataframe tbody tr th {\n",
       "        vertical-align: top;\n",
       "    }\n",
       "\n",
       "    .dataframe thead th {\n",
       "        text-align: right;\n",
       "    }\n",
       "</style>\n",
       "<table border=\"1\" class=\"dataframe\">\n",
       "  <thead>\n",
       "    <tr style=\"text-align: right;\">\n",
       "      <th></th>\n",
       "      <th>nombre</th>\n",
       "      <th>lat</th>\n",
       "      <th>lng</th>\n",
       "      <th>ciudad</th>\n",
       "      <th>distancia</th>\n",
       "      <th>loc</th>\n",
       "    </tr>\n",
       "  </thead>\n",
       "  <tbody>\n",
       "    <tr>\n",
       "      <th>0</th>\n",
       "      <td>Vegan Streets Barcelona Glories</td>\n",
       "      <td>41.410040</td>\n",
       "      <td>2.193974</td>\n",
       "      <td>Barcelona</td>\n",
       "      <td>1072</td>\n",
       "      <td>POINT (2.19397 41.41004)</td>\n",
       "    </tr>\n",
       "    <tr>\n",
       "      <th>1</th>\n",
       "      <td>Vegan Junk Food Bar</td>\n",
       "      <td>41.383386</td>\n",
       "      <td>2.180255</td>\n",
       "      <td>Barcelona</td>\n",
       "      <td>2421</td>\n",
       "      <td>POINT (2.18026 41.38339)</td>\n",
       "    </tr>\n",
       "    <tr>\n",
       "      <th>2</th>\n",
       "      <td>Monchito Vegan</td>\n",
       "      <td>41.380971</td>\n",
       "      <td>2.179880</td>\n",
       "      <td>Barcelona</td>\n",
       "      <td>2658</td>\n",
       "      <td>POINT (2.17988 41.38097)</td>\n",
       "    </tr>\n",
       "    <tr>\n",
       "      <th>3</th>\n",
       "      <td>ENJOY VEGAN</td>\n",
       "      <td>41.388152</td>\n",
       "      <td>2.180673</td>\n",
       "      <td>Barcelona</td>\n",
       "      <td>1996</td>\n",
       "      <td>POINT (2.18067 41.38815)</td>\n",
       "    </tr>\n",
       "    <tr>\n",
       "      <th>4</th>\n",
       "      <td>Good Shit, Vegan Kebabs</td>\n",
       "      <td>41.402854</td>\n",
       "      <td>2.156511</td>\n",
       "      <td>Barcelona</td>\n",
       "      <td>3441</td>\n",
       "      <td>POINT (2.15651 41.40285)</td>\n",
       "    </tr>\n",
       "  </tbody>\n",
       "</table>\n",
       "</div>"
      ],
      "text/plain": [
       "                            nombre        lat       lng     ciudad  distancia  \\\n",
       "0  Vegan Streets Barcelona Glories  41.410040  2.193974  Barcelona       1072   \n",
       "1              Vegan Junk Food Bar  41.383386  2.180255  Barcelona       2421   \n",
       "2                   Monchito Vegan  41.380971  2.179880  Barcelona       2658   \n",
       "3                      ENJOY VEGAN  41.388152  2.180673  Barcelona       1996   \n",
       "4          Good Shit, Vegan Kebabs  41.402854  2.156511  Barcelona       3441   \n",
       "\n",
       "                        loc  \n",
       "0  POINT (2.19397 41.41004)  \n",
       "1  POINT (2.18026 41.38339)  \n",
       "2  POINT (2.17988 41.38097)  \n",
       "3  POINT (2.18067 41.38815)  \n",
       "4  POINT (2.15651 41.40285)  "
      ]
     },
     "execution_count": 20,
     "metadata": {},
     "output_type": "execute_result"
    }
   ],
   "source": [
    "gdf_bcn = geopandas.GeoDataFrame(df_Bcn, geometry=geopandas.points_from_xy(df_Bcn.longitud,\n",
    "                             df_Bcn.latitud))\n",
    "gdf_bcn.columns=['nombre','lat','lng','ciudad','distancia','loc']\n",
    "gdf_bcn.head()"
   ]
  },
  {
   "cell_type": "code",
   "execution_count": 21,
   "id": "8d0941dc",
   "metadata": {
    "scrolled": true
   },
   "outputs": [
    {
     "data": {
      "text/html": [
       "<div>\n",
       "<style scoped>\n",
       "    .dataframe tbody tr th:only-of-type {\n",
       "        vertical-align: middle;\n",
       "    }\n",
       "\n",
       "    .dataframe tbody tr th {\n",
       "        vertical-align: top;\n",
       "    }\n",
       "\n",
       "    .dataframe thead th {\n",
       "        text-align: right;\n",
       "    }\n",
       "</style>\n",
       "<table border=\"1\" class=\"dataframe\">\n",
       "  <thead>\n",
       "    <tr style=\"text-align: right;\">\n",
       "      <th></th>\n",
       "      <th>nombre</th>\n",
       "      <th>lat</th>\n",
       "      <th>lng</th>\n",
       "      <th>ciudad</th>\n",
       "      <th>distancia</th>\n",
       "      <th>loc</th>\n",
       "    </tr>\n",
       "  </thead>\n",
       "  <tbody>\n",
       "    <tr>\n",
       "      <th>0</th>\n",
       "      <td>Omv! Vegan Burgers &amp; More</td>\n",
       "      <td>40.757819</td>\n",
       "      <td>-73.985537</td>\n",
       "      <td>New York</td>\n",
       "      <td>392</td>\n",
       "      <td>POINT (-73.98554 40.75782)</td>\n",
       "    </tr>\n",
       "    <tr>\n",
       "      <th>1</th>\n",
       "      <td>Marty's Vegan Fast Foods</td>\n",
       "      <td>40.750163</td>\n",
       "      <td>-73.988871</td>\n",
       "      <td>New York</td>\n",
       "      <td>736</td>\n",
       "      <td>POINT (-73.98887 40.75016)</td>\n",
       "    </tr>\n",
       "    <tr>\n",
       "      <th>2</th>\n",
       "      <td>MTHR Vegan</td>\n",
       "      <td>40.762373</td>\n",
       "      <td>-73.987867</td>\n",
       "      <td>New York</td>\n",
       "      <td>652</td>\n",
       "      <td>POINT (-73.98787 40.76237)</td>\n",
       "    </tr>\n",
       "    <tr>\n",
       "      <th>3</th>\n",
       "      <td>Happy Zoe Vegan Bakery</td>\n",
       "      <td>40.719246</td>\n",
       "      <td>-73.944252</td>\n",
       "      <td>New York</td>\n",
       "      <td>5681</td>\n",
       "      <td>POINT (-73.94425 40.71925)</td>\n",
       "    </tr>\n",
       "    <tr>\n",
       "      <th>4</th>\n",
       "      <td>Maoz Vegan</td>\n",
       "      <td>40.751706</td>\n",
       "      <td>-73.974375</td>\n",
       "      <td>New York</td>\n",
       "      <td>1428</td>\n",
       "      <td>POINT (-73.97437 40.75171)</td>\n",
       "    </tr>\n",
       "  </tbody>\n",
       "</table>\n",
       "</div>"
      ],
      "text/plain": [
       "                      nombre        lat        lng    ciudad  distancia  \\\n",
       "0  Omv! Vegan Burgers & More  40.757819 -73.985537  New York        392   \n",
       "1   Marty's Vegan Fast Foods  40.750163 -73.988871  New York        736   \n",
       "2                 MTHR Vegan  40.762373 -73.987867  New York        652   \n",
       "3     Happy Zoe Vegan Bakery  40.719246 -73.944252  New York       5681   \n",
       "4                 Maoz Vegan  40.751706 -73.974375  New York       1428   \n",
       "\n",
       "                          loc  \n",
       "0  POINT (-73.98554 40.75782)  \n",
       "1  POINT (-73.98887 40.75016)  \n",
       "2  POINT (-73.98787 40.76237)  \n",
       "3  POINT (-73.94425 40.71925)  \n",
       "4  POINT (-73.97437 40.75171)  "
      ]
     },
     "execution_count": 21,
     "metadata": {},
     "output_type": "execute_result"
    }
   ],
   "source": [
    "gdf_ny = geopandas.GeoDataFrame(df_NewYork, geometry=geopandas.points_from_xy(df_NewYork.longitud,\n",
    "                             df_NewYork.latitud))\n",
    "gdf_ny.columns=['nombre','lat','lng','ciudad','distancia','loc']\n",
    "gdf_ny.head()"
   ]
  },
  {
   "cell_type": "code",
   "execution_count": 22,
   "id": "2e1fed89",
   "metadata": {},
   "outputs": [
    {
     "data": {
      "text/html": [
       "<div>\n",
       "<style scoped>\n",
       "    .dataframe tbody tr th:only-of-type {\n",
       "        vertical-align: middle;\n",
       "    }\n",
       "\n",
       "    .dataframe tbody tr th {\n",
       "        vertical-align: top;\n",
       "    }\n",
       "\n",
       "    .dataframe thead th {\n",
       "        text-align: right;\n",
       "    }\n",
       "</style>\n",
       "<table border=\"1\" class=\"dataframe\">\n",
       "  <thead>\n",
       "    <tr style=\"text-align: right;\">\n",
       "      <th></th>\n",
       "      <th>nombre</th>\n",
       "      <th>lat</th>\n",
       "      <th>lng</th>\n",
       "      <th>ciudad</th>\n",
       "      <th>distancia</th>\n",
       "      <th>loc</th>\n",
       "    </tr>\n",
       "  </thead>\n",
       "  <tbody>\n",
       "    <tr>\n",
       "      <th>0</th>\n",
       "      <td>Vegan Streets Madrid Castellana</td>\n",
       "      <td>40.442456</td>\n",
       "      <td>-3.679973</td>\n",
       "      <td>Madrid</td>\n",
       "      <td>6696</td>\n",
       "      <td>POINT (-3.67997 40.44246)</td>\n",
       "    </tr>\n",
       "    <tr>\n",
       "      <th>1</th>\n",
       "      <td>Vegan Streets Madrid Centro</td>\n",
       "      <td>40.417512</td>\n",
       "      <td>-3.697636</td>\n",
       "      <td>Madrid</td>\n",
       "      <td>9696</td>\n",
       "      <td>POINT (-3.69764 40.41751)</td>\n",
       "    </tr>\n",
       "    <tr>\n",
       "      <th>2</th>\n",
       "      <td>Vegan bistro</td>\n",
       "      <td>40.419410</td>\n",
       "      <td>-3.679066</td>\n",
       "      <td>Madrid</td>\n",
       "      <td>9243</td>\n",
       "      <td>POINT (-3.67907 40.41941)</td>\n",
       "    </tr>\n",
       "    <tr>\n",
       "      <th>3</th>\n",
       "      <td>THUNDER VEGAN FOOD</td>\n",
       "      <td>40.424450</td>\n",
       "      <td>-3.702513</td>\n",
       "      <td>Madrid</td>\n",
       "      <td>9060</td>\n",
       "      <td>POINT (-3.70251 40.42445)</td>\n",
       "    </tr>\n",
       "    <tr>\n",
       "      <th>4</th>\n",
       "      <td>vegetarian / vegan restaurant</td>\n",
       "      <td>40.432974</td>\n",
       "      <td>-3.686693</td>\n",
       "      <td>Madrid</td>\n",
       "      <td>7822</td>\n",
       "      <td>POINT (-3.68669 40.43297)</td>\n",
       "    </tr>\n",
       "  </tbody>\n",
       "</table>\n",
       "</div>"
      ],
      "text/plain": [
       "                            nombre        lat       lng  ciudad  distancia  \\\n",
       "0  Vegan Streets Madrid Castellana  40.442456 -3.679973  Madrid       6696   \n",
       "1      Vegan Streets Madrid Centro  40.417512 -3.697636  Madrid       9696   \n",
       "2                     Vegan bistro  40.419410 -3.679066  Madrid       9243   \n",
       "3               THUNDER VEGAN FOOD  40.424450 -3.702513  Madrid       9060   \n",
       "4    vegetarian / vegan restaurant  40.432974 -3.686693  Madrid       7822   \n",
       "\n",
       "                         loc  \n",
       "0  POINT (-3.67997 40.44246)  \n",
       "1  POINT (-3.69764 40.41751)  \n",
       "2  POINT (-3.67907 40.41941)  \n",
       "3  POINT (-3.70251 40.42445)  \n",
       "4  POINT (-3.68669 40.43297)  "
      ]
     },
     "execution_count": 22,
     "metadata": {},
     "output_type": "execute_result"
    }
   ],
   "source": [
    "gdf_mad = geopandas.GeoDataFrame(df_Mad, geometry=geopandas.points_from_xy(df_Mad.longitud,\n",
    "                             df_Mad.latitud))\n",
    "gdf_mad.columns=['nombre','lat','lng','ciudad','distancia','loc']\n",
    "gdf_mad.head()"
   ]
  },
  {
   "cell_type": "markdown",
   "id": "dcc0a5dd",
   "metadata": {},
   "source": [
    "Nos exportamos estos 3 dataframes maravillosos en formato .csv para cargarlos en Mongo"
   ]
  },
  {
   "cell_type": "code",
   "execution_count": 23,
   "id": "36213cdd",
   "metadata": {},
   "outputs": [],
   "source": [
    "gdf_ny.to_csv('newyork_data.csv')\n",
    "gdf_mad.to_csv('mad_data.csv')\n",
    "gdf_bcn.to_csv('bcn_data.csv')"
   ]
  },
  {
   "cell_type": "markdown",
   "id": "5bc2f3b4",
   "metadata": {},
   "source": [
    "Me hago una función que me convierta las coordenadas que le meto como string a tipo point para poder hacer las geoqueries debidamente en Mongo.\n",
    "Ahora las coordenadas las pasamos en formato lista"
   ]
  },
  {
   "cell_type": "code",
   "execution_count": 24,
   "id": "3ac780e5",
   "metadata": {},
   "outputs": [],
   "source": [
    "coord_ny = [-73.98996, 40.75673]\n",
    "coord_mad = [2.19763, 41.40080]\n",
    "coord_bcn = [-3.67097, 40.50222]"
   ]
  },
  {
   "cell_type": "code",
   "execution_count": 25,
   "id": "24d54747",
   "metadata": {},
   "outputs": [],
   "source": [
    "def type_point(lista):\n",
    "    return {\"type\": \"Point\", \n",
    "            \"coordinates\": lista\n",
    "    }"
   ]
  },
  {
   "cell_type": "code",
   "execution_count": 26,
   "id": "31a60838",
   "metadata": {},
   "outputs": [
    {
     "data": {
      "text/plain": [
       "{'type': 'Point', 'coordinates': [-73.98996, 40.75673]}"
      ]
     },
     "execution_count": 26,
     "metadata": {},
     "output_type": "execute_result"
    }
   ],
   "source": [
    "type_point(coord_ny) # comprobandooo"
   ]
  },
  {
   "cell_type": "code",
   "execution_count": 27,
   "id": "453e034f",
   "metadata": {},
   "outputs": [],
   "source": [
    "proj = {'id':0, 'name':1} # usaré esta proyección para que solo me de en nombre"
   ]
  },
  {
   "cell_type": "code",
   "execution_count": 30,
   "id": "29bfa53a",
   "metadata": {},
   "outputs": [],
   "source": [
    "client = MongoClient(\"localhost:27017\")\n",
    "db = client.get_database(\"GeoProject\")"
   ]
  },
  {
   "cell_type": "code",
   "execution_count": 31,
   "id": "58f6d36a",
   "metadata": {},
   "outputs": [
    {
     "data": {
      "text/plain": [
       "Database(MongoClient(host=['localhost:27017'], document_class=dict, tz_aware=False, connect=True), 'GeoProject')"
      ]
     },
     "execution_count": 31,
     "metadata": {},
     "output_type": "execute_result"
    }
   ],
   "source": [
    "db"
   ]
  },
  {
   "cell_type": "markdown",
   "id": "9638bcf6",
   "metadata": {},
   "source": [
    "Creamos los index de la geometry para cada geodataframe"
   ]
  },
  {
   "cell_type": "code",
   "execution_count": 32,
   "id": "3eb77779",
   "metadata": {},
   "outputs": [
    {
     "data": {
      "text/plain": [
       "'geometry_2dsphere'"
      ]
     },
     "execution_count": 32,
     "metadata": {},
     "output_type": "execute_result"
    }
   ],
   "source": [
    "db.NY.create_index([(\"geometry\", GEOSPHERE)])"
   ]
  },
  {
   "cell_type": "code",
   "execution_count": 33,
   "id": "3c34695c",
   "metadata": {},
   "outputs": [
    {
     "data": {
      "text/plain": [
       "'geometry_2dsphere'"
      ]
     },
     "execution_count": 33,
     "metadata": {},
     "output_type": "execute_result"
    }
   ],
   "source": [
    "db.MAD.create_index([('geometry', GEOSPHERE)])"
   ]
  },
  {
   "cell_type": "code",
   "execution_count": 34,
   "id": "e5a82cd6",
   "metadata": {},
   "outputs": [
    {
     "data": {
      "text/plain": [
       "'geometry_2dsphere'"
      ]
     },
     "execution_count": 34,
     "metadata": {},
     "output_type": "execute_result"
    }
   ],
   "source": [
    "db.BCN.create_index([(\"geometry\", GEOSPHERE)])"
   ]
  },
  {
   "cell_type": "markdown",
   "id": "4931210c",
   "metadata": {},
   "source": [
    "Genero una conexión con la base de datos"
   ]
  },
  {
   "cell_type": "code",
   "execution_count": 35,
   "id": "bd6a4524",
   "metadata": {},
   "outputs": [],
   "source": [
    "m = db.get_collection(\"MAD\")\n",
    "b = db.get_collection(\"BCN\")\n",
    "ny = db.get_collection(\"NY\")"
   ]
  },
  {
   "cell_type": "code",
   "execution_count": null,
   "id": "ce31591b",
   "metadata": {},
   "outputs": [],
   "source": []
  }
 ],
 "metadata": {
  "kernelspec": {
   "display_name": "Python 3",
   "language": "python",
   "name": "python3"
  },
  "language_info": {
   "codemirror_mode": {
    "name": "ipython",
    "version": 3
   },
   "file_extension": ".py",
   "mimetype": "text/x-python",
   "name": "python",
   "nbconvert_exporter": "python",
   "pygments_lexer": "ipython3",
   "version": "3.8.8"
  }
 },
 "nbformat": 4,
 "nbformat_minor": 5
}
