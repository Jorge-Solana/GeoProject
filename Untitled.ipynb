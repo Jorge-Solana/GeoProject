{
 "cells": [
  {
   "cell_type": "markdown",
   "id": "7f740b9c",
   "metadata": {},
   "source": [
    "vamos a morirnos"
   ]
  },
  {
   "cell_type": "code",
   "execution_count": 17,
   "id": "0981a7ee",
   "metadata": {},
   "outputs": [],
   "source": [
    "import requests\n",
    "import json\n",
    "from dotenv import load_dotenv\n",
    "import os\n",
    "import pandas as pd\n",
    "from pymongo import MongoClient\n",
    "from pandas import json_normalize\n",
    "from pymongo import MongoClient,GEOSPHERE\n",
    "import shapely.geometry\n",
    "import geopandas as gdp"
   ]
  },
  {
   "cell_type": "code",
   "execution_count": 18,
   "id": "3107b7d9",
   "metadata": {},
   "outputs": [],
   "source": [
    "df = pd.read_csv('newyork_data.csv', index_col = 0)\n",
    "df2 = pd.read_csv('mad_data.csv', index_col = 0)\n",
    "df3 = pd.read_csv('bcn_data.csv', index_col = 0)"
   ]
  },
  {
   "cell_type": "code",
   "execution_count": 19,
   "id": "6c5da8bc",
   "metadata": {},
   "outputs": [],
   "source": [
    "def funcionquefunciona (df,ciudad):\n",
    "    gdf = gdp.GeoDataFrame(df, geometry= gdp.points_from_xy(df.lng, df.lat ))\n",
    "    print(gdf.columns)\n",
    "    gdf.columns=['nombre', 'lat','lng','ciudad','distancia','loc','loc2' ]\n",
    "    \n",
    "    gdf['loc2']= gdf['loc2'].apply(lambda x:shapely.geometry.mapping(x))\n",
    "    \n",
    "    client = MongoClient()\n",
    "    db = client.GeoProject\n",
    "    collection = db.create_collection(name = f'{ciudad}')\n",
    "    collection = db[f'{ciudad}']\n",
    "    collection.create_index([(\"loc2\", \"2dsphere\")])\n",
    "    data = gdf.to_dict(orient='records')\n",
    "    collection.insert_many(data)\n",
    "    \n",
    "    return 'Buenisima'"
   ]
  },
  {
   "cell_type": "code",
   "execution_count": 4,
   "id": "4213b35d",
   "metadata": {},
   "outputs": [
    {
     "data": {
      "text/plain": [
       "'Buenisima'"
      ]
     },
     "execution_count": 4,
     "metadata": {},
     "output_type": "execute_result"
    }
   ],
   "source": [
    "funcionquefunciona(df2,'mad')"
   ]
  },
  {
   "cell_type": "code",
   "execution_count": 5,
   "id": "4065b15a",
   "metadata": {},
   "outputs": [
    {
     "data": {
      "text/plain": [
       "'Buenisima'"
      ]
     },
     "execution_count": 5,
     "metadata": {},
     "output_type": "execute_result"
    }
   ],
   "source": [
    "funcionquefunciona(df3,'bnc')"
   ]
  },
  {
   "cell_type": "code",
   "execution_count": 20,
   "id": "c79cfc41",
   "metadata": {},
   "outputs": [],
   "source": [
    "lista1 = [df,df2,df3]\n",
    "lista2 = ['ny', 'mad','bcn']"
   ]
  },
  {
   "cell_type": "code",
   "execution_count": 21,
   "id": "328c9d54",
   "metadata": {},
   "outputs": [
    {
     "name": "stdout",
     "output_type": "stream",
     "text": [
      "Index(['nombre', 'lat', 'lng', 'ciudad', 'distancia', 'loc', 'geometry'], dtype='object')\n",
      "Index(['nombre', 'lat', 'lng', 'ciudad', 'distancia', 'loc', 'geometry'], dtype='object')\n",
      "Index(['nombre', 'lat', 'lng', 'ciudad', 'distancia', 'loc', 'geometry'], dtype='object')\n"
     ]
    }
   ],
   "source": [
    "for i,j in zip(lista1,lista2):\n",
    "    funcionquefunciona(i,j)"
   ]
  },
  {
   "cell_type": "code",
   "execution_count": null,
   "id": "88da5ae9",
   "metadata": {},
   "outputs": [],
   "source": []
  }
 ],
 "metadata": {
  "kernelspec": {
   "display_name": "Python 3",
   "language": "python",
   "name": "python3"
  },
  "language_info": {
   "codemirror_mode": {
    "name": "ipython",
    "version": 3
   },
   "file_extension": ".py",
   "mimetype": "text/x-python",
   "name": "python",
   "nbconvert_exporter": "python",
   "pygments_lexer": "ipython3",
   "version": "3.8.8"
  }
 },
 "nbformat": 4,
 "nbformat_minor": 5
}
